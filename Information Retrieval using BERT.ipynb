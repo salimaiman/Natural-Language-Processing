{
  "nbformat": 4,
  "nbformat_minor": 0,
  "metadata": {
    "colab": {
      "provenance": [],
      "collapsed_sections": [
        "aVzf174Lk8ss",
        "FL0A3T6guCnY"
      ]
    },
    "kernelspec": {
      "name": "python3",
      "display_name": "Python 3"
    },
    "language_info": {
      "name": "python"
    },
    "accelerator": "GPU"
  },
  "cells": [
    {
      "cell_type": "markdown",
      "source": [
        "#### Install Library"
      ],
      "metadata": {
        "id": "db9_-2vxfLlq"
      }
    },
    {
      "cell_type": "code",
      "source": [
        "import torch\n",
        "\n",
        "if torch.cuda.is_available():\n",
        "  device = torch.device('cuda')\n",
        "\n",
        "  print('there are %d GPU(s) available.' % torch.cuda.device_count())\n",
        "\n",
        "  print('we will use the GPU: ', torch.cuda.get_device_name(0))\n",
        "\n",
        "else:\n",
        "  print(\"No GPU available, using the CPU instead\")\n",
        "  device = torch.device(\"cpu\")"
      ],
      "metadata": {
        "colab": {
          "base_uri": "https://localhost:8080/"
        },
        "id": "HFTFaWYbxnh7",
        "outputId": "baa986e1-70d5-4770-fbdc-21b1f02fe0cb"
      },
      "execution_count": 1,
      "outputs": [
        {
          "output_type": "stream",
          "name": "stdout",
          "text": [
            "there are 1 GPU(s) available.\n",
            "we will use the GPU:  Tesla T4\n"
          ]
        }
      ]
    },
    {
      "cell_type": "code",
      "execution_count": null,
      "metadata": {
        "id": "arUWTBMaLmnB",
        "colab": {
          "base_uri": "https://localhost:8080/"
        },
        "outputId": "1bbc20b2-e7c9-42f9-dc70-d8648ae90fe9"
      },
      "outputs": [
        {
          "output_type": "stream",
          "name": "stdout",
          "text": [
            "Looking in indexes: https://pypi.org/simple, https://us-python.pkg.dev/colab-wheels/public/simple/\n",
            "Collecting sentence_transformers\n",
            "  Downloading sentence-transformers-2.2.2.tar.gz (85 kB)\n",
            "\u001b[K     |████████████████████████████████| 85 kB 3.4 MB/s \n",
            "\u001b[?25hCollecting Sastrawi\n",
            "  Downloading Sastrawi-1.0.1-py2.py3-none-any.whl (209 kB)\n",
            "\u001b[K     |████████████████████████████████| 209 kB 41.3 MB/s \n",
            "\u001b[?25hCollecting transformers<5.0.0,>=4.6.0\n",
            "  Downloading transformers-4.22.2-py3-none-any.whl (4.9 MB)\n",
            "\u001b[K     |████████████████████████████████| 4.9 MB 50.5 MB/s \n",
            "\u001b[?25hRequirement already satisfied: tqdm in /usr/local/lib/python3.7/dist-packages (from sentence_transformers) (4.64.1)\n",
            "Requirement already satisfied: torch>=1.6.0 in /usr/local/lib/python3.7/dist-packages (from sentence_transformers) (1.12.1+cu113)\n",
            "Requirement already satisfied: torchvision in /usr/local/lib/python3.7/dist-packages (from sentence_transformers) (0.13.1+cu113)\n",
            "Requirement already satisfied: numpy in /usr/local/lib/python3.7/dist-packages (from sentence_transformers) (1.21.6)\n",
            "Requirement already satisfied: scikit-learn in /usr/local/lib/python3.7/dist-packages (from sentence_transformers) (1.0.2)\n",
            "Requirement already satisfied: scipy in /usr/local/lib/python3.7/dist-packages (from sentence_transformers) (1.7.3)\n",
            "Requirement already satisfied: nltk in /usr/local/lib/python3.7/dist-packages (from sentence_transformers) (3.7)\n",
            "Collecting sentencepiece\n",
            "  Downloading sentencepiece-0.1.97-cp37-cp37m-manylinux_2_17_x86_64.manylinux2014_x86_64.whl (1.3 MB)\n",
            "\u001b[K     |████████████████████████████████| 1.3 MB 68.8 MB/s \n",
            "\u001b[?25hCollecting huggingface-hub>=0.4.0\n",
            "  Downloading huggingface_hub-0.10.0-py3-none-any.whl (163 kB)\n",
            "\u001b[K     |████████████████████████████████| 163 kB 72.8 MB/s \n",
            "\u001b[?25hRequirement already satisfied: typing-extensions>=3.7.4.3 in /usr/local/lib/python3.7/dist-packages (from huggingface-hub>=0.4.0->sentence_transformers) (4.1.1)\n",
            "Requirement already satisfied: filelock in /usr/local/lib/python3.7/dist-packages (from huggingface-hub>=0.4.0->sentence_transformers) (3.8.0)\n",
            "Requirement already satisfied: importlib-metadata in /usr/local/lib/python3.7/dist-packages (from huggingface-hub>=0.4.0->sentence_transformers) (4.12.0)\n",
            "Requirement already satisfied: packaging>=20.9 in /usr/local/lib/python3.7/dist-packages (from huggingface-hub>=0.4.0->sentence_transformers) (21.3)\n",
            "Requirement already satisfied: pyyaml>=5.1 in /usr/local/lib/python3.7/dist-packages (from huggingface-hub>=0.4.0->sentence_transformers) (6.0)\n",
            "Requirement already satisfied: requests in /usr/local/lib/python3.7/dist-packages (from huggingface-hub>=0.4.0->sentence_transformers) (2.23.0)\n",
            "Requirement already satisfied: pyparsing!=3.0.5,>=2.0.2 in /usr/local/lib/python3.7/dist-packages (from packaging>=20.9->huggingface-hub>=0.4.0->sentence_transformers) (3.0.9)\n",
            "Collecting tokenizers!=0.11.3,<0.13,>=0.11.1\n",
            "  Downloading tokenizers-0.12.1-cp37-cp37m-manylinux_2_12_x86_64.manylinux2010_x86_64.whl (6.6 MB)\n",
            "\u001b[K     |████████████████████████████████| 6.6 MB 46.7 MB/s \n",
            "\u001b[?25hRequirement already satisfied: regex!=2019.12.17 in /usr/local/lib/python3.7/dist-packages (from transformers<5.0.0,>=4.6.0->sentence_transformers) (2022.6.2)\n",
            "Requirement already satisfied: zipp>=0.5 in /usr/local/lib/python3.7/dist-packages (from importlib-metadata->huggingface-hub>=0.4.0->sentence_transformers) (3.8.1)\n",
            "Requirement already satisfied: click in /usr/local/lib/python3.7/dist-packages (from nltk->sentence_transformers) (7.1.2)\n",
            "Requirement already satisfied: joblib in /usr/local/lib/python3.7/dist-packages (from nltk->sentence_transformers) (1.1.0)\n",
            "Requirement already satisfied: idna<3,>=2.5 in /usr/local/lib/python3.7/dist-packages (from requests->huggingface-hub>=0.4.0->sentence_transformers) (2.10)\n",
            "Requirement already satisfied: urllib3!=1.25.0,!=1.25.1,<1.26,>=1.21.1 in /usr/local/lib/python3.7/dist-packages (from requests->huggingface-hub>=0.4.0->sentence_transformers) (1.24.3)\n",
            "Requirement already satisfied: chardet<4,>=3.0.2 in /usr/local/lib/python3.7/dist-packages (from requests->huggingface-hub>=0.4.0->sentence_transformers) (3.0.4)\n",
            "Requirement already satisfied: certifi>=2017.4.17 in /usr/local/lib/python3.7/dist-packages (from requests->huggingface-hub>=0.4.0->sentence_transformers) (2022.6.15)\n",
            "Requirement already satisfied: threadpoolctl>=2.0.0 in /usr/local/lib/python3.7/dist-packages (from scikit-learn->sentence_transformers) (3.1.0)\n",
            "Requirement already satisfied: pillow!=8.3.*,>=5.3.0 in /usr/local/lib/python3.7/dist-packages (from torchvision->sentence_transformers) (7.1.2)\n",
            "Building wheels for collected packages: sentence-transformers\n",
            "  Building wheel for sentence-transformers (setup.py) ... \u001b[?25l\u001b[?25hdone\n",
            "  Created wheel for sentence-transformers: filename=sentence_transformers-2.2.2-py3-none-any.whl size=125938 sha256=d8f29db7204c845c4e3db5f4701bd5091819a39aab350a22cfe022142535fac9\n",
            "  Stored in directory: /root/.cache/pip/wheels/bf/06/fb/d59c1e5bd1dac7f6cf61ec0036cc3a10ab8fecaa6b2c3d3ee9\n",
            "Successfully built sentence-transformers\n",
            "Installing collected packages: tokenizers, huggingface-hub, transformers, sentencepiece, sentence-transformers, Sastrawi\n",
            "Successfully installed Sastrawi-1.0.1 huggingface-hub-0.10.0 sentence-transformers-2.2.2 sentencepiece-0.1.97 tokenizers-0.12.1 transformers-4.22.2\n"
          ]
        }
      ],
      "source": [
        "!pip install sentence_transformers Sastrawi"
      ]
    },
    {
      "cell_type": "code",
      "source": [
        "!pip install transformers"
      ],
      "metadata": {
        "colab": {
          "base_uri": "https://localhost:8080/"
        },
        "id": "AQZ3Wmp8sArr",
        "outputId": "44598181-46ab-4b4c-dbe7-60f61693a4cf"
      },
      "execution_count": null,
      "outputs": [
        {
          "output_type": "stream",
          "name": "stdout",
          "text": [
            "Looking in indexes: https://pypi.org/simple, https://us-python.pkg.dev/colab-wheels/public/simple/\n",
            "Requirement already satisfied: transformers in /usr/local/lib/python3.7/dist-packages (4.22.2)\n",
            "Requirement already satisfied: requests in /usr/local/lib/python3.7/dist-packages (from transformers) (2.23.0)\n",
            "Requirement already satisfied: packaging>=20.0 in /usr/local/lib/python3.7/dist-packages (from transformers) (21.3)\n",
            "Requirement already satisfied: huggingface-hub<1.0,>=0.9.0 in /usr/local/lib/python3.7/dist-packages (from transformers) (0.10.0)\n",
            "Requirement already satisfied: regex!=2019.12.17 in /usr/local/lib/python3.7/dist-packages (from transformers) (2022.6.2)\n",
            "Requirement already satisfied: tqdm>=4.27 in /usr/local/lib/python3.7/dist-packages (from transformers) (4.64.1)\n",
            "Requirement already satisfied: filelock in /usr/local/lib/python3.7/dist-packages (from transformers) (3.8.0)\n",
            "Requirement already satisfied: pyyaml>=5.1 in /usr/local/lib/python3.7/dist-packages (from transformers) (6.0)\n",
            "Requirement already satisfied: importlib-metadata in /usr/local/lib/python3.7/dist-packages (from transformers) (4.12.0)\n",
            "Requirement already satisfied: tokenizers!=0.11.3,<0.13,>=0.11.1 in /usr/local/lib/python3.7/dist-packages (from transformers) (0.12.1)\n",
            "Requirement already satisfied: numpy>=1.17 in /usr/local/lib/python3.7/dist-packages (from transformers) (1.21.6)\n",
            "Requirement already satisfied: typing-extensions>=3.7.4.3 in /usr/local/lib/python3.7/dist-packages (from huggingface-hub<1.0,>=0.9.0->transformers) (4.1.1)\n",
            "Requirement already satisfied: pyparsing!=3.0.5,>=2.0.2 in /usr/local/lib/python3.7/dist-packages (from packaging>=20.0->transformers) (3.0.9)\n",
            "Requirement already satisfied: zipp>=0.5 in /usr/local/lib/python3.7/dist-packages (from importlib-metadata->transformers) (3.8.1)\n",
            "Requirement already satisfied: chardet<4,>=3.0.2 in /usr/local/lib/python3.7/dist-packages (from requests->transformers) (3.0.4)\n",
            "Requirement already satisfied: certifi>=2017.4.17 in /usr/local/lib/python3.7/dist-packages (from requests->transformers) (2022.6.15)\n",
            "Requirement already satisfied: urllib3!=1.25.0,!=1.25.1,<1.26,>=1.21.1 in /usr/local/lib/python3.7/dist-packages (from requests->transformers) (1.24.3)\n",
            "Requirement already satisfied: idna<3,>=2.5 in /usr/local/lib/python3.7/dist-packages (from requests->transformers) (2.10)\n"
          ]
        }
      ]
    },
    {
      "cell_type": "code",
      "source": [
        "!pip install pytorch_pretrained_bert nmslib"
      ],
      "metadata": {
        "colab": {
          "base_uri": "https://localhost:8080/"
        },
        "id": "r4z1uNXWfl-F",
        "outputId": "0dde7722-884e-4b9c-95e0-4828d1728555"
      },
      "execution_count": null,
      "outputs": [
        {
          "output_type": "stream",
          "name": "stdout",
          "text": [
            "Looking in indexes: https://pypi.org/simple, https://us-python.pkg.dev/colab-wheels/public/simple/\n",
            "Collecting pytorch_pretrained_bert\n",
            "  Downloading pytorch_pretrained_bert-0.6.2-py3-none-any.whl (123 kB)\n",
            "\u001b[K     |████████████████████████████████| 123 kB 7.5 MB/s \n",
            "\u001b[?25hCollecting nmslib\n",
            "  Downloading nmslib-2.1.1-cp37-cp37m-manylinux2010_x86_64.whl (13.5 MB)\n",
            "\u001b[K     |████████████████████████████████| 13.5 MB 26.3 MB/s \n",
            "\u001b[?25hRequirement already satisfied: requests in /usr/local/lib/python3.7/dist-packages (from pytorch_pretrained_bert) (2.23.0)\n",
            "Collecting boto3\n",
            "  Downloading boto3-1.24.84-py3-none-any.whl (132 kB)\n",
            "\u001b[K     |████████████████████████████████| 132 kB 71.0 MB/s \n",
            "\u001b[?25hRequirement already satisfied: torch>=0.4.1 in /usr/local/lib/python3.7/dist-packages (from pytorch_pretrained_bert) (1.12.1+cu113)\n",
            "Requirement already satisfied: numpy in /usr/local/lib/python3.7/dist-packages (from pytorch_pretrained_bert) (1.21.6)\n",
            "Requirement already satisfied: tqdm in /usr/local/lib/python3.7/dist-packages (from pytorch_pretrained_bert) (4.64.1)\n",
            "Requirement already satisfied: regex in /usr/local/lib/python3.7/dist-packages (from pytorch_pretrained_bert) (2022.6.2)\n",
            "Requirement already satisfied: typing-extensions in /usr/local/lib/python3.7/dist-packages (from torch>=0.4.1->pytorch_pretrained_bert) (4.1.1)\n",
            "Requirement already satisfied: psutil in /usr/local/lib/python3.7/dist-packages (from nmslib) (5.4.8)\n",
            "Collecting pybind11<2.6.2\n",
            "  Downloading pybind11-2.6.1-py2.py3-none-any.whl (188 kB)\n",
            "\u001b[K     |████████████████████████████████| 188 kB 72.1 MB/s \n",
            "\u001b[?25hCollecting s3transfer<0.7.0,>=0.6.0\n",
            "  Downloading s3transfer-0.6.0-py3-none-any.whl (79 kB)\n",
            "\u001b[K     |████████████████████████████████| 79 kB 10.8 MB/s \n",
            "\u001b[?25hCollecting botocore<1.28.0,>=1.27.84\n",
            "  Downloading botocore-1.27.84-py3-none-any.whl (9.2 MB)\n",
            "\u001b[K     |████████████████████████████████| 9.2 MB 52.4 MB/s \n",
            "\u001b[?25hCollecting jmespath<2.0.0,>=0.7.1\n",
            "  Downloading jmespath-1.0.1-py3-none-any.whl (20 kB)\n",
            "Requirement already satisfied: python-dateutil<3.0.0,>=2.1 in /usr/local/lib/python3.7/dist-packages (from botocore<1.28.0,>=1.27.84->boto3->pytorch_pretrained_bert) (2.8.2)\n",
            "Collecting urllib3<1.27,>=1.25.4\n",
            "  Downloading urllib3-1.26.12-py2.py3-none-any.whl (140 kB)\n",
            "\u001b[K     |████████████████████████████████| 140 kB 73.0 MB/s \n",
            "\u001b[?25hRequirement already satisfied: six>=1.5 in /usr/local/lib/python3.7/dist-packages (from python-dateutil<3.0.0,>=2.1->botocore<1.28.0,>=1.27.84->boto3->pytorch_pretrained_bert) (1.15.0)\n",
            "  Downloading urllib3-1.25.11-py2.py3-none-any.whl (127 kB)\n",
            "\u001b[K     |████████████████████████████████| 127 kB 64.0 MB/s \n",
            "\u001b[?25hRequirement already satisfied: certifi>=2017.4.17 in /usr/local/lib/python3.7/dist-packages (from requests->pytorch_pretrained_bert) (2022.6.15)\n",
            "Requirement already satisfied: chardet<4,>=3.0.2 in /usr/local/lib/python3.7/dist-packages (from requests->pytorch_pretrained_bert) (3.0.4)\n",
            "Requirement already satisfied: idna<3,>=2.5 in /usr/local/lib/python3.7/dist-packages (from requests->pytorch_pretrained_bert) (2.10)\n",
            "Installing collected packages: urllib3, jmespath, botocore, s3transfer, pybind11, boto3, pytorch-pretrained-bert, nmslib\n",
            "  Attempting uninstall: urllib3\n",
            "    Found existing installation: urllib3 1.24.3\n",
            "    Uninstalling urllib3-1.24.3:\n",
            "      Successfully uninstalled urllib3-1.24.3\n",
            "Successfully installed boto3-1.24.84 botocore-1.27.84 jmespath-1.0.1 nmslib-2.1.1 pybind11-2.6.1 pytorch-pretrained-bert-0.6.2 s3transfer-0.6.0 urllib3-1.25.11\n"
          ]
        }
      ]
    },
    {
      "cell_type": "markdown",
      "source": [
        "### Import Library"
      ],
      "metadata": {
        "id": "aVzf174Lk8ss"
      }
    },
    {
      "cell_type": "code",
      "source": [
        "# Base\n",
        "from google.colab import files\n",
        "import pandas as pd\n",
        "import numpy as np\n",
        "import re\n",
        "\n",
        "# NLP\n",
        "import nltk\n",
        "from nltk.corpus import stopwords\n",
        "from nltk.tokenize import word_tokenize\n",
        "nltk.download('punkt')\n",
        "nltk.download('stopwords')\n",
        "\n",
        "from sentence_transformers import SentenceTransformer\n",
        "\n",
        "# Stemmer Package Khusus Bahasa Indonesia \n",
        "from Sastrawi.Stemmer.StemmerFactory import StemmerFactory\n",
        "factory = StemmerFactory()\n",
        "stemmer = factory.create_stemmer()\n",
        "\n",
        "\n",
        "# Visualization packages\n",
        "import matplotlib.pyplot as plt\n",
        "import seaborn as sns\n",
        "\n",
        "# Library untuk Gensim BERT\n",
        "import nmslib\n",
        "import torch\n",
        "import random\n",
        "from tqdm import tqdm\n",
        "import numpy as np\n",
        "from joblib import dump, load\n",
        "from string import punctuation\n",
        "from operator import itemgetter\n",
        "from functools import wraps\n",
        "from pytorch_pretrained_bert import BertModel, BertTokenizer, BertConfig"
      ],
      "metadata": {
        "colab": {
          "base_uri": "https://localhost:8080/"
        },
        "id": "Tl8KQ_vUk27d",
        "outputId": "880dca75-31e5-4db6-d6fa-c99a340d8694"
      },
      "execution_count": null,
      "outputs": [
        {
          "output_type": "stream",
          "name": "stderr",
          "text": [
            "[nltk_data] Downloading package punkt to /root/nltk_data...\n",
            "[nltk_data]   Unzipping tokenizers/punkt.zip.\n",
            "[nltk_data] Downloading package stopwords to /root/nltk_data...\n",
            "[nltk_data]   Unzipping corpora/stopwords.zip.\n"
          ]
        }
      ]
    },
    {
      "cell_type": "markdown",
      "source": [
        "# Load Dataset & Analize"
      ],
      "metadata": {
        "id": "p_JkyJvB1EIm"
      }
    },
    {
      "cell_type": "code",
      "source": [
        "# file upload\n",
        "from google.colab import files\n",
        "uploaded = files.upload()"
      ],
      "metadata": {
        "colab": {
          "base_uri": "https://localhost:8080/",
          "height": 91
        },
        "id": "y6YaSeQbCOWw",
        "outputId": "169127cd-e17e-4d6c-af01-67630a4829d7"
      },
      "execution_count": null,
      "outputs": [
        {
          "output_type": "display_data",
          "data": {
            "text/plain": [
              "<IPython.core.display.HTML object>"
            ],
            "text/html": [
              "\n",
              "     <input type=\"file\" id=\"files-68294239-b294-4426-bcea-6884a8c93780\" name=\"files[]\" multiple disabled\n",
              "        style=\"border:none\" />\n",
              "     <output id=\"result-68294239-b294-4426-bcea-6884a8c93780\">\n",
              "      Upload widget is only available when the cell has been executed in the\n",
              "      current browser session. Please rerun this cell to enable.\n",
              "      </output>\n",
              "      <script>// Copyright 2017 Google LLC\n",
              "//\n",
              "// Licensed under the Apache License, Version 2.0 (the \"License\");\n",
              "// you may not use this file except in compliance with the License.\n",
              "// You may obtain a copy of the License at\n",
              "//\n",
              "//      http://www.apache.org/licenses/LICENSE-2.0\n",
              "//\n",
              "// Unless required by applicable law or agreed to in writing, software\n",
              "// distributed under the License is distributed on an \"AS IS\" BASIS,\n",
              "// WITHOUT WARRANTIES OR CONDITIONS OF ANY KIND, either express or implied.\n",
              "// See the License for the specific language governing permissions and\n",
              "// limitations under the License.\n",
              "\n",
              "/**\n",
              " * @fileoverview Helpers for google.colab Python module.\n",
              " */\n",
              "(function(scope) {\n",
              "function span(text, styleAttributes = {}) {\n",
              "  const element = document.createElement('span');\n",
              "  element.textContent = text;\n",
              "  for (const key of Object.keys(styleAttributes)) {\n",
              "    element.style[key] = styleAttributes[key];\n",
              "  }\n",
              "  return element;\n",
              "}\n",
              "\n",
              "// Max number of bytes which will be uploaded at a time.\n",
              "const MAX_PAYLOAD_SIZE = 100 * 1024;\n",
              "\n",
              "function _uploadFiles(inputId, outputId) {\n",
              "  const steps = uploadFilesStep(inputId, outputId);\n",
              "  const outputElement = document.getElementById(outputId);\n",
              "  // Cache steps on the outputElement to make it available for the next call\n",
              "  // to uploadFilesContinue from Python.\n",
              "  outputElement.steps = steps;\n",
              "\n",
              "  return _uploadFilesContinue(outputId);\n",
              "}\n",
              "\n",
              "// This is roughly an async generator (not supported in the browser yet),\n",
              "// where there are multiple asynchronous steps and the Python side is going\n",
              "// to poll for completion of each step.\n",
              "// This uses a Promise to block the python side on completion of each step,\n",
              "// then passes the result of the previous step as the input to the next step.\n",
              "function _uploadFilesContinue(outputId) {\n",
              "  const outputElement = document.getElementById(outputId);\n",
              "  const steps = outputElement.steps;\n",
              "\n",
              "  const next = steps.next(outputElement.lastPromiseValue);\n",
              "  return Promise.resolve(next.value.promise).then((value) => {\n",
              "    // Cache the last promise value to make it available to the next\n",
              "    // step of the generator.\n",
              "    outputElement.lastPromiseValue = value;\n",
              "    return next.value.response;\n",
              "  });\n",
              "}\n",
              "\n",
              "/**\n",
              " * Generator function which is called between each async step of the upload\n",
              " * process.\n",
              " * @param {string} inputId Element ID of the input file picker element.\n",
              " * @param {string} outputId Element ID of the output display.\n",
              " * @return {!Iterable<!Object>} Iterable of next steps.\n",
              " */\n",
              "function* uploadFilesStep(inputId, outputId) {\n",
              "  const inputElement = document.getElementById(inputId);\n",
              "  inputElement.disabled = false;\n",
              "\n",
              "  const outputElement = document.getElementById(outputId);\n",
              "  outputElement.innerHTML = '';\n",
              "\n",
              "  const pickedPromise = new Promise((resolve) => {\n",
              "    inputElement.addEventListener('change', (e) => {\n",
              "      resolve(e.target.files);\n",
              "    });\n",
              "  });\n",
              "\n",
              "  const cancel = document.createElement('button');\n",
              "  inputElement.parentElement.appendChild(cancel);\n",
              "  cancel.textContent = 'Cancel upload';\n",
              "  const cancelPromise = new Promise((resolve) => {\n",
              "    cancel.onclick = () => {\n",
              "      resolve(null);\n",
              "    };\n",
              "  });\n",
              "\n",
              "  // Wait for the user to pick the files.\n",
              "  const files = yield {\n",
              "    promise: Promise.race([pickedPromise, cancelPromise]),\n",
              "    response: {\n",
              "      action: 'starting',\n",
              "    }\n",
              "  };\n",
              "\n",
              "  cancel.remove();\n",
              "\n",
              "  // Disable the input element since further picks are not allowed.\n",
              "  inputElement.disabled = true;\n",
              "\n",
              "  if (!files) {\n",
              "    return {\n",
              "      response: {\n",
              "        action: 'complete',\n",
              "      }\n",
              "    };\n",
              "  }\n",
              "\n",
              "  for (const file of files) {\n",
              "    const li = document.createElement('li');\n",
              "    li.append(span(file.name, {fontWeight: 'bold'}));\n",
              "    li.append(span(\n",
              "        `(${file.type || 'n/a'}) - ${file.size} bytes, ` +\n",
              "        `last modified: ${\n",
              "            file.lastModifiedDate ? file.lastModifiedDate.toLocaleDateString() :\n",
              "                                    'n/a'} - `));\n",
              "    const percent = span('0% done');\n",
              "    li.appendChild(percent);\n",
              "\n",
              "    outputElement.appendChild(li);\n",
              "\n",
              "    const fileDataPromise = new Promise((resolve) => {\n",
              "      const reader = new FileReader();\n",
              "      reader.onload = (e) => {\n",
              "        resolve(e.target.result);\n",
              "      };\n",
              "      reader.readAsArrayBuffer(file);\n",
              "    });\n",
              "    // Wait for the data to be ready.\n",
              "    let fileData = yield {\n",
              "      promise: fileDataPromise,\n",
              "      response: {\n",
              "        action: 'continue',\n",
              "      }\n",
              "    };\n",
              "\n",
              "    // Use a chunked sending to avoid message size limits. See b/62115660.\n",
              "    let position = 0;\n",
              "    do {\n",
              "      const length = Math.min(fileData.byteLength - position, MAX_PAYLOAD_SIZE);\n",
              "      const chunk = new Uint8Array(fileData, position, length);\n",
              "      position += length;\n",
              "\n",
              "      const base64 = btoa(String.fromCharCode.apply(null, chunk));\n",
              "      yield {\n",
              "        response: {\n",
              "          action: 'append',\n",
              "          file: file.name,\n",
              "          data: base64,\n",
              "        },\n",
              "      };\n",
              "\n",
              "      let percentDone = fileData.byteLength === 0 ?\n",
              "          100 :\n",
              "          Math.round((position / fileData.byteLength) * 100);\n",
              "      percent.textContent = `${percentDone}% done`;\n",
              "\n",
              "    } while (position < fileData.byteLength);\n",
              "  }\n",
              "\n",
              "  // All done.\n",
              "  yield {\n",
              "    response: {\n",
              "      action: 'complete',\n",
              "    }\n",
              "  };\n",
              "}\n",
              "\n",
              "scope.google = scope.google || {};\n",
              "scope.google.colab = scope.google.colab || {};\n",
              "scope.google.colab._files = {\n",
              "  _uploadFiles,\n",
              "  _uploadFilesContinue,\n",
              "};\n",
              "})(self);\n",
              "</script> "
            ]
          },
          "metadata": {}
        },
        {
          "output_type": "stream",
          "name": "stdout",
          "text": [
            "Saving dataset.xlsx to dataset.xlsx\n"
          ]
        }
      ]
    },
    {
      "cell_type": "code",
      "source": [
        "# data = pd.read_csv('dataset.csv', names=[\"id_deskripsi\", \"deskripsi\", \"id_video\", \"id_user\", \"created_at\"]) # load dataset .csv\n",
        "data = pd.read_excel('dataset.xlsx', names=[\"id_deskripsi\", \"deskripsi\", \"id_video\", \"id_user\", \"created_at\"]) # load dataset .xlsx\n",
        "data.head()"
      ],
      "metadata": {
        "id": "6os-aC9Tk3BV",
        "colab": {
          "base_uri": "https://localhost:8080/",
          "height": 206
        },
        "outputId": "758bb0a5-e925-4a98-fa5f-8b329030feb4"
      },
      "execution_count": null,
      "outputs": [
        {
          "output_type": "execute_result",
          "data": {
            "text/plain": [
              "   id_deskripsi                                          deskripsi  id_video  \\\n",
              "0             1  Lelaki berjenggot itu sedang menggunting kerta...        11   \n",
              "1             4                     pria sedang menggunting kertas        11   \n",
              "2             5                                 menggunting kertas        11   \n",
              "3             6   Seorang bapak sedang menggunting selembar kertas        11   \n",
              "4             7                     ada anjing dan orang perempuan        13   \n",
              "\n",
              "   id_user  created_at  \n",
              "0        8  29/04/2016  \n",
              "1       38  28/04/2016  \n",
              "2       19  28/04/2016  \n",
              "3       16  28/04/2016  \n",
              "4       38  28/04/2016  "
            ],
            "text/html": [
              "\n",
              "  <div id=\"df-0f8fd992-382e-43f8-9e74-434dbaeb9bdd\">\n",
              "    <div class=\"colab-df-container\">\n",
              "      <div>\n",
              "<style scoped>\n",
              "    .dataframe tbody tr th:only-of-type {\n",
              "        vertical-align: middle;\n",
              "    }\n",
              "\n",
              "    .dataframe tbody tr th {\n",
              "        vertical-align: top;\n",
              "    }\n",
              "\n",
              "    .dataframe thead th {\n",
              "        text-align: right;\n",
              "    }\n",
              "</style>\n",
              "<table border=\"1\" class=\"dataframe\">\n",
              "  <thead>\n",
              "    <tr style=\"text-align: right;\">\n",
              "      <th></th>\n",
              "      <th>id_deskripsi</th>\n",
              "      <th>deskripsi</th>\n",
              "      <th>id_video</th>\n",
              "      <th>id_user</th>\n",
              "      <th>created_at</th>\n",
              "    </tr>\n",
              "  </thead>\n",
              "  <tbody>\n",
              "    <tr>\n",
              "      <th>0</th>\n",
              "      <td>1</td>\n",
              "      <td>Lelaki berjenggot itu sedang menggunting kerta...</td>\n",
              "      <td>11</td>\n",
              "      <td>8</td>\n",
              "      <td>29/04/2016</td>\n",
              "    </tr>\n",
              "    <tr>\n",
              "      <th>1</th>\n",
              "      <td>4</td>\n",
              "      <td>pria sedang menggunting kertas</td>\n",
              "      <td>11</td>\n",
              "      <td>38</td>\n",
              "      <td>28/04/2016</td>\n",
              "    </tr>\n",
              "    <tr>\n",
              "      <th>2</th>\n",
              "      <td>5</td>\n",
              "      <td>menggunting kertas</td>\n",
              "      <td>11</td>\n",
              "      <td>19</td>\n",
              "      <td>28/04/2016</td>\n",
              "    </tr>\n",
              "    <tr>\n",
              "      <th>3</th>\n",
              "      <td>6</td>\n",
              "      <td>Seorang bapak sedang menggunting selembar kertas</td>\n",
              "      <td>11</td>\n",
              "      <td>16</td>\n",
              "      <td>28/04/2016</td>\n",
              "    </tr>\n",
              "    <tr>\n",
              "      <th>4</th>\n",
              "      <td>7</td>\n",
              "      <td>ada anjing dan orang perempuan</td>\n",
              "      <td>13</td>\n",
              "      <td>38</td>\n",
              "      <td>28/04/2016</td>\n",
              "    </tr>\n",
              "  </tbody>\n",
              "</table>\n",
              "</div>\n",
              "      <button class=\"colab-df-convert\" onclick=\"convertToInteractive('df-0f8fd992-382e-43f8-9e74-434dbaeb9bdd')\"\n",
              "              title=\"Convert this dataframe to an interactive table.\"\n",
              "              style=\"display:none;\">\n",
              "        \n",
              "  <svg xmlns=\"http://www.w3.org/2000/svg\" height=\"24px\"viewBox=\"0 0 24 24\"\n",
              "       width=\"24px\">\n",
              "    <path d=\"M0 0h24v24H0V0z\" fill=\"none\"/>\n",
              "    <path d=\"M18.56 5.44l.94 2.06.94-2.06 2.06-.94-2.06-.94-.94-2.06-.94 2.06-2.06.94zm-11 1L8.5 8.5l.94-2.06 2.06-.94-2.06-.94L8.5 2.5l-.94 2.06-2.06.94zm10 10l.94 2.06.94-2.06 2.06-.94-2.06-.94-.94-2.06-.94 2.06-2.06.94z\"/><path d=\"M17.41 7.96l-1.37-1.37c-.4-.4-.92-.59-1.43-.59-.52 0-1.04.2-1.43.59L10.3 9.45l-7.72 7.72c-.78.78-.78 2.05 0 2.83L4 21.41c.39.39.9.59 1.41.59.51 0 1.02-.2 1.41-.59l7.78-7.78 2.81-2.81c.8-.78.8-2.07 0-2.86zM5.41 20L4 18.59l7.72-7.72 1.47 1.35L5.41 20z\"/>\n",
              "  </svg>\n",
              "      </button>\n",
              "      \n",
              "  <style>\n",
              "    .colab-df-container {\n",
              "      display:flex;\n",
              "      flex-wrap:wrap;\n",
              "      gap: 12px;\n",
              "    }\n",
              "\n",
              "    .colab-df-convert {\n",
              "      background-color: #E8F0FE;\n",
              "      border: none;\n",
              "      border-radius: 50%;\n",
              "      cursor: pointer;\n",
              "      display: none;\n",
              "      fill: #1967D2;\n",
              "      height: 32px;\n",
              "      padding: 0 0 0 0;\n",
              "      width: 32px;\n",
              "    }\n",
              "\n",
              "    .colab-df-convert:hover {\n",
              "      background-color: #E2EBFA;\n",
              "      box-shadow: 0px 1px 2px rgba(60, 64, 67, 0.3), 0px 1px 3px 1px rgba(60, 64, 67, 0.15);\n",
              "      fill: #174EA6;\n",
              "    }\n",
              "\n",
              "    [theme=dark] .colab-df-convert {\n",
              "      background-color: #3B4455;\n",
              "      fill: #D2E3FC;\n",
              "    }\n",
              "\n",
              "    [theme=dark] .colab-df-convert:hover {\n",
              "      background-color: #434B5C;\n",
              "      box-shadow: 0px 1px 3px 1px rgba(0, 0, 0, 0.15);\n",
              "      filter: drop-shadow(0px 1px 2px rgba(0, 0, 0, 0.3));\n",
              "      fill: #FFFFFF;\n",
              "    }\n",
              "  </style>\n",
              "\n",
              "      <script>\n",
              "        const buttonEl =\n",
              "          document.querySelector('#df-0f8fd992-382e-43f8-9e74-434dbaeb9bdd button.colab-df-convert');\n",
              "        buttonEl.style.display =\n",
              "          google.colab.kernel.accessAllowed ? 'block' : 'none';\n",
              "\n",
              "        async function convertToInteractive(key) {\n",
              "          const element = document.querySelector('#df-0f8fd992-382e-43f8-9e74-434dbaeb9bdd');\n",
              "          const dataTable =\n",
              "            await google.colab.kernel.invokeFunction('convertToInteractive',\n",
              "                                                     [key], {});\n",
              "          if (!dataTable) return;\n",
              "\n",
              "          const docLinkHtml = 'Like what you see? Visit the ' +\n",
              "            '<a target=\"_blank\" href=https://colab.research.google.com/notebooks/data_table.ipynb>data table notebook</a>'\n",
              "            + ' to learn more about interactive tables.';\n",
              "          element.innerHTML = '';\n",
              "          dataTable['output_type'] = 'display_data';\n",
              "          await google.colab.output.renderOutput(dataTable, element);\n",
              "          const docLink = document.createElement('div');\n",
              "          docLink.innerHTML = docLinkHtml;\n",
              "          element.appendChild(docLink);\n",
              "        }\n",
              "      </script>\n",
              "    </div>\n",
              "  </div>\n",
              "  "
            ]
          },
          "metadata": {},
          "execution_count": 7
        }
      ]
    },
    {
      "cell_type": "code",
      "source": [
        "# melakukan backup dataset dengan copy dataset dan disimpan ke variable df\n",
        "df = data.copy()\n",
        "\n",
        "# melakukan drop pada kolom created_at dan id_user\n",
        "df = df.drop(columns=['id_deskripsi','id_user', 'created_at'])\n",
        "df.head()"
      ],
      "metadata": {
        "id": "-d3fl_Ya2CGu",
        "colab": {
          "base_uri": "https://localhost:8080/",
          "height": 206
        },
        "outputId": "be27b13f-94e6-48d9-e585-94ef65711840"
      },
      "execution_count": null,
      "outputs": [
        {
          "output_type": "execute_result",
          "data": {
            "text/plain": [
              "                                           deskripsi  id_video\n",
              "0  Lelaki berjenggot itu sedang menggunting kerta...        11\n",
              "1                     pria sedang menggunting kertas        11\n",
              "2                                 menggunting kertas        11\n",
              "3   Seorang bapak sedang menggunting selembar kertas        11\n",
              "4                     ada anjing dan orang perempuan        13"
            ],
            "text/html": [
              "\n",
              "  <div id=\"df-e602c545-65ec-4438-8920-65d13fd52f61\">\n",
              "    <div class=\"colab-df-container\">\n",
              "      <div>\n",
              "<style scoped>\n",
              "    .dataframe tbody tr th:only-of-type {\n",
              "        vertical-align: middle;\n",
              "    }\n",
              "\n",
              "    .dataframe tbody tr th {\n",
              "        vertical-align: top;\n",
              "    }\n",
              "\n",
              "    .dataframe thead th {\n",
              "        text-align: right;\n",
              "    }\n",
              "</style>\n",
              "<table border=\"1\" class=\"dataframe\">\n",
              "  <thead>\n",
              "    <tr style=\"text-align: right;\">\n",
              "      <th></th>\n",
              "      <th>deskripsi</th>\n",
              "      <th>id_video</th>\n",
              "    </tr>\n",
              "  </thead>\n",
              "  <tbody>\n",
              "    <tr>\n",
              "      <th>0</th>\n",
              "      <td>Lelaki berjenggot itu sedang menggunting kerta...</td>\n",
              "      <td>11</td>\n",
              "    </tr>\n",
              "    <tr>\n",
              "      <th>1</th>\n",
              "      <td>pria sedang menggunting kertas</td>\n",
              "      <td>11</td>\n",
              "    </tr>\n",
              "    <tr>\n",
              "      <th>2</th>\n",
              "      <td>menggunting kertas</td>\n",
              "      <td>11</td>\n",
              "    </tr>\n",
              "    <tr>\n",
              "      <th>3</th>\n",
              "      <td>Seorang bapak sedang menggunting selembar kertas</td>\n",
              "      <td>11</td>\n",
              "    </tr>\n",
              "    <tr>\n",
              "      <th>4</th>\n",
              "      <td>ada anjing dan orang perempuan</td>\n",
              "      <td>13</td>\n",
              "    </tr>\n",
              "  </tbody>\n",
              "</table>\n",
              "</div>\n",
              "      <button class=\"colab-df-convert\" onclick=\"convertToInteractive('df-e602c545-65ec-4438-8920-65d13fd52f61')\"\n",
              "              title=\"Convert this dataframe to an interactive table.\"\n",
              "              style=\"display:none;\">\n",
              "        \n",
              "  <svg xmlns=\"http://www.w3.org/2000/svg\" height=\"24px\"viewBox=\"0 0 24 24\"\n",
              "       width=\"24px\">\n",
              "    <path d=\"M0 0h24v24H0V0z\" fill=\"none\"/>\n",
              "    <path d=\"M18.56 5.44l.94 2.06.94-2.06 2.06-.94-2.06-.94-.94-2.06-.94 2.06-2.06.94zm-11 1L8.5 8.5l.94-2.06 2.06-.94-2.06-.94L8.5 2.5l-.94 2.06-2.06.94zm10 10l.94 2.06.94-2.06 2.06-.94-2.06-.94-.94-2.06-.94 2.06-2.06.94z\"/><path d=\"M17.41 7.96l-1.37-1.37c-.4-.4-.92-.59-1.43-.59-.52 0-1.04.2-1.43.59L10.3 9.45l-7.72 7.72c-.78.78-.78 2.05 0 2.83L4 21.41c.39.39.9.59 1.41.59.51 0 1.02-.2 1.41-.59l7.78-7.78 2.81-2.81c.8-.78.8-2.07 0-2.86zM5.41 20L4 18.59l7.72-7.72 1.47 1.35L5.41 20z\"/>\n",
              "  </svg>\n",
              "      </button>\n",
              "      \n",
              "  <style>\n",
              "    .colab-df-container {\n",
              "      display:flex;\n",
              "      flex-wrap:wrap;\n",
              "      gap: 12px;\n",
              "    }\n",
              "\n",
              "    .colab-df-convert {\n",
              "      background-color: #E8F0FE;\n",
              "      border: none;\n",
              "      border-radius: 50%;\n",
              "      cursor: pointer;\n",
              "      display: none;\n",
              "      fill: #1967D2;\n",
              "      height: 32px;\n",
              "      padding: 0 0 0 0;\n",
              "      width: 32px;\n",
              "    }\n",
              "\n",
              "    .colab-df-convert:hover {\n",
              "      background-color: #E2EBFA;\n",
              "      box-shadow: 0px 1px 2px rgba(60, 64, 67, 0.3), 0px 1px 3px 1px rgba(60, 64, 67, 0.15);\n",
              "      fill: #174EA6;\n",
              "    }\n",
              "\n",
              "    [theme=dark] .colab-df-convert {\n",
              "      background-color: #3B4455;\n",
              "      fill: #D2E3FC;\n",
              "    }\n",
              "\n",
              "    [theme=dark] .colab-df-convert:hover {\n",
              "      background-color: #434B5C;\n",
              "      box-shadow: 0px 1px 3px 1px rgba(0, 0, 0, 0.15);\n",
              "      filter: drop-shadow(0px 1px 2px rgba(0, 0, 0, 0.3));\n",
              "      fill: #FFFFFF;\n",
              "    }\n",
              "  </style>\n",
              "\n",
              "      <script>\n",
              "        const buttonEl =\n",
              "          document.querySelector('#df-e602c545-65ec-4438-8920-65d13fd52f61 button.colab-df-convert');\n",
              "        buttonEl.style.display =\n",
              "          google.colab.kernel.accessAllowed ? 'block' : 'none';\n",
              "\n",
              "        async function convertToInteractive(key) {\n",
              "          const element = document.querySelector('#df-e602c545-65ec-4438-8920-65d13fd52f61');\n",
              "          const dataTable =\n",
              "            await google.colab.kernel.invokeFunction('convertToInteractive',\n",
              "                                                     [key], {});\n",
              "          if (!dataTable) return;\n",
              "\n",
              "          const docLinkHtml = 'Like what you see? Visit the ' +\n",
              "            '<a target=\"_blank\" href=https://colab.research.google.com/notebooks/data_table.ipynb>data table notebook</a>'\n",
              "            + ' to learn more about interactive tables.';\n",
              "          element.innerHTML = '';\n",
              "          dataTable['output_type'] = 'display_data';\n",
              "          await google.colab.output.renderOutput(dataTable, element);\n",
              "          const docLink = document.createElement('div');\n",
              "          docLink.innerHTML = docLinkHtml;\n",
              "          element.appendChild(docLink);\n",
              "        }\n",
              "      </script>\n",
              "    </div>\n",
              "  </div>\n",
              "  "
            ]
          },
          "metadata": {},
          "execution_count": 8
        }
      ]
    },
    {
      "cell_type": "code",
      "source": [
        "# memastikan setiap data pada kolom deskripsi merupakan data string\n",
        "df['deskripsi'] = [str(txt) for txt in df['deskripsi']]"
      ],
      "metadata": {
        "id": "osIHeqHQB1Do"
      },
      "execution_count": null,
      "outputs": []
    },
    {
      "cell_type": "code",
      "source": [
        "df.info()"
      ],
      "metadata": {
        "id": "QTFloKvu4doJ",
        "colab": {
          "base_uri": "https://localhost:8080/"
        },
        "outputId": "cf168476-3b10-4f9a-e555-4eef5c0bce1a"
      },
      "execution_count": null,
      "outputs": [
        {
          "output_type": "stream",
          "name": "stdout",
          "text": [
            "<class 'pandas.core.frame.DataFrame'>\n",
            "RangeIndex: 43753 entries, 0 to 43752\n",
            "Data columns (total 2 columns):\n",
            " #   Column     Non-Null Count  Dtype \n",
            "---  ------     --------------  ----- \n",
            " 0   deskripsi  43753 non-null  object\n",
            " 1   id_video   43753 non-null  int64 \n",
            "dtypes: int64(1), object(1)\n",
            "memory usage: 683.8+ KB\n"
          ]
        }
      ]
    },
    {
      "cell_type": "code",
      "source": [
        "total_duplicated = 0\n",
        "for dup in df.duplicated():\n",
        "  if dup :\n",
        "    total_duplicated += 1\n",
        "\n",
        "print(\"Total Data yang terduplikat = \", total_duplicated)"
      ],
      "metadata": {
        "id": "lOEy8NSE4gjd",
        "colab": {
          "base_uri": "https://localhost:8080/"
        },
        "outputId": "6d02dc71-3be7-4c39-cf55-a8418a2978e2"
      },
      "execution_count": null,
      "outputs": [
        {
          "output_type": "stream",
          "name": "stdout",
          "text": [
            "Total Data yang terduplikat =  5240\n"
          ]
        }
      ]
    },
    {
      "cell_type": "markdown",
      "source": [
        "# Split Data Training dan Testing\n",
        "Data Training = 70% <br>\n",
        "Data Testing = 30%"
      ],
      "metadata": {
        "id": "LCO5h2TPkiKb"
      }
    },
    {
      "cell_type": "code",
      "source": [
        "import math\n",
        "def split_train_test(data, test_size=0.3):\n",
        "  train_len = math.ceil(len(data) * (100-(test_size*100)) / 100)\n",
        "\n",
        "  train_data = data[:train_len]\n",
        "  test_data = data[train_len:]\n",
        "\n",
        "  return train_data, test_data"
      ],
      "metadata": {
        "id": "eV8evVQVkqw2"
      },
      "execution_count": null,
      "outputs": []
    },
    {
      "cell_type": "code",
      "source": [
        "train_df, test_df = split_train_test(df, test_size=0.3)\n",
        "print(\"Shape Data Train : \", train_df.shape)\n",
        "print(\"Shape Data Test : \", test_df.shape)"
      ],
      "metadata": {
        "id": "lkdDsY_Cktyt",
        "colab": {
          "base_uri": "https://localhost:8080/"
        },
        "outputId": "77cc832d-bfaf-4de8-ad2a-e90af6d7d55f"
      },
      "execution_count": null,
      "outputs": [
        {
          "output_type": "stream",
          "name": "stdout",
          "text": [
            "Shape Data Train :  (30628, 2)\n",
            "Shape Data Test :  (13125, 2)\n"
          ]
        }
      ]
    },
    {
      "cell_type": "markdown",
      "source": [
        "# Preprocess Text & Data Preparation Functions"
      ],
      "metadata": {
        "id": "yP53lwQzL7wF"
      }
    },
    {
      "cell_type": "code",
      "source": [
        "# menambah stopword dari library sastrawi\n",
        "from Sastrawi.StopWordRemover.StopWordRemoverFactory import StopWordRemoverFactory\n",
        "stop_factory = StopWordRemoverFactory()\n",
        "\n",
        "stoplist = set(stopwords.words('indonesian'))\n",
        "stoplist_sastrawi = stop_factory.get_stop_words()\n",
        "\n",
        "intersection = []\n",
        "for kata in stoplist:\n",
        "  if kata in stoplist_sastrawi:\n",
        "    intersection.append(kata)\n",
        "\n",
        "more_stopwords = []\n",
        "for word in stoplist_sastrawi:\n",
        "  if word not in intersection:\n",
        "    more_stopwords.append(word)"
      ],
      "metadata": {
        "id": "gbnWutZIA6gL"
      },
      "execution_count": null,
      "outputs": []
    },
    {
      "cell_type": "code",
      "source": [
        "class NLP:\n",
        "  def __init__(self, data):\n",
        "    self.data = data.copy()\n",
        "\n",
        "  def simple_preprocessing(self, txt, remove_stopwords=True, tokenize=False):\n",
        "    # lower the text\n",
        "    text = txt.lower()\n",
        "    \n",
        "    # remove url\n",
        "    text = re.sub(r'((www.\\.[^\\s]+)|(https?://[^\\s]+))', '', text)\n",
        "\n",
        "    # remove special characters\n",
        "    text = re.sub(r'\\W', ' ', text)\n",
        "\n",
        "    # remove single character from the start\n",
        "    text = re.sub(r'\\^[A-Za-z]\\s+', ' ', text)\n",
        "\n",
        "    # remove number\n",
        "    text = re.sub(r'[0-9]+', '', text)\n",
        "\n",
        "    # remove prefixed 'b'\n",
        "    text = re.sub(r'^b\\s+', '', text)\n",
        "\n",
        "    # remove single character\n",
        "    text = re.sub(r'\\s+[A-Za-z]\\s+', ' ', text)\n",
        "    \n",
        "    # substituting multiple spaces with single space\n",
        "    text = re.sub(r'\\s+', ' ', text, flags=re.I)\n",
        "\n",
        "    # remove stopwords\n",
        "    if remove_stopwords:\n",
        "      stopword = set(stopwords.words('indonesian')+more_stopwords)\n",
        "      text = ' '.join([word for word in word_tokenize(text) if word not in stopword])\n",
        "\n",
        "    if tokenize:\n",
        "      text = word_tokenize(text)\n",
        "\n",
        "    return text\n",
        "\n",
        "  def preprocess_df(self, column='deskripsi', remove_stopwords=True):\n",
        "    self.data['cleaned_text'] = self.data[column].apply(self.simple_preprocessing)\n",
        "\n",
        "  def preprocess_text(self, remove_stopwords=True, tokenize=False):\n",
        "    self.data[0] = self.simple_preprocessing(self.data[0],\n",
        "                                              tokenize=tokenize)\n",
        "\n",
        "    if tokenize:\n",
        "      self.data = list(np.array(self.data[0]).flatten())\n",
        "    "
      ],
      "metadata": {
        "id": "KUOGVUkt-rco"
      },
      "execution_count": null,
      "outputs": []
    },
    {
      "cell_type": "code",
      "source": [
        "def find_distance(sent1, sent2, distance):\n",
        "  sent1_embedd = sent1.reshape(1,-1)\n",
        "\n",
        "  nilai_distance = distance(sent1_embedd, sent2)\n",
        "  return nilai_distance"
      ],
      "metadata": {
        "id": "N0nW_HhwZGkS"
      },
      "execution_count": null,
      "outputs": []
    },
    {
      "cell_type": "markdown",
      "source": [
        "# Preprocessing"
      ],
      "metadata": {
        "id": "Z5jmnmuHsM8n"
      }
    },
    {
      "cell_type": "code",
      "source": [
        "train_df = NLP(train_df)\n",
        "train_df.preprocess_df()"
      ],
      "metadata": {
        "id": "xEZrPDCZsgWx"
      },
      "execution_count": null,
      "outputs": []
    },
    {
      "cell_type": "code",
      "source": [
        "train_df.data"
      ],
      "metadata": {
        "id": "YZZck8AgtSNQ",
        "colab": {
          "base_uri": "https://localhost:8080/",
          "height": 424
        },
        "outputId": "b257701c-9595-4e64-af5e-215d2f06f16d"
      },
      "execution_count": null,
      "outputs": [
        {
          "output_type": "execute_result",
          "data": {
            "text/plain": [
              "                                               deskripsi  id_video  \\\n",
              "0      Lelaki berjenggot itu sedang menggunting kerta...        11   \n",
              "1                         pria sedang menggunting kertas        11   \n",
              "2                                     menggunting kertas        11   \n",
              "3       Seorang bapak sedang menggunting selembar kertas        11   \n",
              "4                         ada anjing dan orang perempuan        13   \n",
              "...                                                  ...       ...   \n",
              "30623  Anak kecil yang mencium bayangannya sendiri di...      1350   \n",
              "30624       seseorang sedang memancing lalu di makan hiu      1299   \n",
              "30625                         hamster sedang makan kuaci      1374   \n",
              "30626                        memotong mangga denga pisau      1346   \n",
              "30627                        balita yang memainkan gitar      1287   \n",
              "\n",
              "                                  cleaned_text  \n",
              "0      lelaki berjenggot menggunting kertasnya  \n",
              "1                      pria menggunting kertas  \n",
              "2                           menggunting kertas  \n",
              "3                  menggunting selembar kertas  \n",
              "4                       anjing orang perempuan  \n",
              "...                                        ...  \n",
              "30623          anak mencium bayangannya cermin  \n",
              "30624                      memancing makan hiu  \n",
              "30625                      hamster makan kuaci  \n",
              "30626              memotong mangga denga pisau  \n",
              "30627                   balita memainkan gitar  \n",
              "\n",
              "[30628 rows x 3 columns]"
            ],
            "text/html": [
              "\n",
              "  <div id=\"df-8d627da5-6f55-4d5a-a169-5ea1ef470af3\">\n",
              "    <div class=\"colab-df-container\">\n",
              "      <div>\n",
              "<style scoped>\n",
              "    .dataframe tbody tr th:only-of-type {\n",
              "        vertical-align: middle;\n",
              "    }\n",
              "\n",
              "    .dataframe tbody tr th {\n",
              "        vertical-align: top;\n",
              "    }\n",
              "\n",
              "    .dataframe thead th {\n",
              "        text-align: right;\n",
              "    }\n",
              "</style>\n",
              "<table border=\"1\" class=\"dataframe\">\n",
              "  <thead>\n",
              "    <tr style=\"text-align: right;\">\n",
              "      <th></th>\n",
              "      <th>deskripsi</th>\n",
              "      <th>id_video</th>\n",
              "      <th>cleaned_text</th>\n",
              "    </tr>\n",
              "  </thead>\n",
              "  <tbody>\n",
              "    <tr>\n",
              "      <th>0</th>\n",
              "      <td>Lelaki berjenggot itu sedang menggunting kerta...</td>\n",
              "      <td>11</td>\n",
              "      <td>lelaki berjenggot menggunting kertasnya</td>\n",
              "    </tr>\n",
              "    <tr>\n",
              "      <th>1</th>\n",
              "      <td>pria sedang menggunting kertas</td>\n",
              "      <td>11</td>\n",
              "      <td>pria menggunting kertas</td>\n",
              "    </tr>\n",
              "    <tr>\n",
              "      <th>2</th>\n",
              "      <td>menggunting kertas</td>\n",
              "      <td>11</td>\n",
              "      <td>menggunting kertas</td>\n",
              "    </tr>\n",
              "    <tr>\n",
              "      <th>3</th>\n",
              "      <td>Seorang bapak sedang menggunting selembar kertas</td>\n",
              "      <td>11</td>\n",
              "      <td>menggunting selembar kertas</td>\n",
              "    </tr>\n",
              "    <tr>\n",
              "      <th>4</th>\n",
              "      <td>ada anjing dan orang perempuan</td>\n",
              "      <td>13</td>\n",
              "      <td>anjing orang perempuan</td>\n",
              "    </tr>\n",
              "    <tr>\n",
              "      <th>...</th>\n",
              "      <td>...</td>\n",
              "      <td>...</td>\n",
              "      <td>...</td>\n",
              "    </tr>\n",
              "    <tr>\n",
              "      <th>30623</th>\n",
              "      <td>Anak kecil yang mencium bayangannya sendiri di...</td>\n",
              "      <td>1350</td>\n",
              "      <td>anak mencium bayangannya cermin</td>\n",
              "    </tr>\n",
              "    <tr>\n",
              "      <th>30624</th>\n",
              "      <td>seseorang sedang memancing lalu di makan hiu</td>\n",
              "      <td>1299</td>\n",
              "      <td>memancing makan hiu</td>\n",
              "    </tr>\n",
              "    <tr>\n",
              "      <th>30625</th>\n",
              "      <td>hamster sedang makan kuaci</td>\n",
              "      <td>1374</td>\n",
              "      <td>hamster makan kuaci</td>\n",
              "    </tr>\n",
              "    <tr>\n",
              "      <th>30626</th>\n",
              "      <td>memotong mangga denga pisau</td>\n",
              "      <td>1346</td>\n",
              "      <td>memotong mangga denga pisau</td>\n",
              "    </tr>\n",
              "    <tr>\n",
              "      <th>30627</th>\n",
              "      <td>balita yang memainkan gitar</td>\n",
              "      <td>1287</td>\n",
              "      <td>balita memainkan gitar</td>\n",
              "    </tr>\n",
              "  </tbody>\n",
              "</table>\n",
              "<p>30628 rows × 3 columns</p>\n",
              "</div>\n",
              "      <button class=\"colab-df-convert\" onclick=\"convertToInteractive('df-8d627da5-6f55-4d5a-a169-5ea1ef470af3')\"\n",
              "              title=\"Convert this dataframe to an interactive table.\"\n",
              "              style=\"display:none;\">\n",
              "        \n",
              "  <svg xmlns=\"http://www.w3.org/2000/svg\" height=\"24px\"viewBox=\"0 0 24 24\"\n",
              "       width=\"24px\">\n",
              "    <path d=\"M0 0h24v24H0V0z\" fill=\"none\"/>\n",
              "    <path d=\"M18.56 5.44l.94 2.06.94-2.06 2.06-.94-2.06-.94-.94-2.06-.94 2.06-2.06.94zm-11 1L8.5 8.5l.94-2.06 2.06-.94-2.06-.94L8.5 2.5l-.94 2.06-2.06.94zm10 10l.94 2.06.94-2.06 2.06-.94-2.06-.94-.94-2.06-.94 2.06-2.06.94z\"/><path d=\"M17.41 7.96l-1.37-1.37c-.4-.4-.92-.59-1.43-.59-.52 0-1.04.2-1.43.59L10.3 9.45l-7.72 7.72c-.78.78-.78 2.05 0 2.83L4 21.41c.39.39.9.59 1.41.59.51 0 1.02-.2 1.41-.59l7.78-7.78 2.81-2.81c.8-.78.8-2.07 0-2.86zM5.41 20L4 18.59l7.72-7.72 1.47 1.35L5.41 20z\"/>\n",
              "  </svg>\n",
              "      </button>\n",
              "      \n",
              "  <style>\n",
              "    .colab-df-container {\n",
              "      display:flex;\n",
              "      flex-wrap:wrap;\n",
              "      gap: 12px;\n",
              "    }\n",
              "\n",
              "    .colab-df-convert {\n",
              "      background-color: #E8F0FE;\n",
              "      border: none;\n",
              "      border-radius: 50%;\n",
              "      cursor: pointer;\n",
              "      display: none;\n",
              "      fill: #1967D2;\n",
              "      height: 32px;\n",
              "      padding: 0 0 0 0;\n",
              "      width: 32px;\n",
              "    }\n",
              "\n",
              "    .colab-df-convert:hover {\n",
              "      background-color: #E2EBFA;\n",
              "      box-shadow: 0px 1px 2px rgba(60, 64, 67, 0.3), 0px 1px 3px 1px rgba(60, 64, 67, 0.15);\n",
              "      fill: #174EA6;\n",
              "    }\n",
              "\n",
              "    [theme=dark] .colab-df-convert {\n",
              "      background-color: #3B4455;\n",
              "      fill: #D2E3FC;\n",
              "    }\n",
              "\n",
              "    [theme=dark] .colab-df-convert:hover {\n",
              "      background-color: #434B5C;\n",
              "      box-shadow: 0px 1px 3px 1px rgba(0, 0, 0, 0.15);\n",
              "      filter: drop-shadow(0px 1px 2px rgba(0, 0, 0, 0.3));\n",
              "      fill: #FFFFFF;\n",
              "    }\n",
              "  </style>\n",
              "\n",
              "      <script>\n",
              "        const buttonEl =\n",
              "          document.querySelector('#df-8d627da5-6f55-4d5a-a169-5ea1ef470af3 button.colab-df-convert');\n",
              "        buttonEl.style.display =\n",
              "          google.colab.kernel.accessAllowed ? 'block' : 'none';\n",
              "\n",
              "        async function convertToInteractive(key) {\n",
              "          const element = document.querySelector('#df-8d627da5-6f55-4d5a-a169-5ea1ef470af3');\n",
              "          const dataTable =\n",
              "            await google.colab.kernel.invokeFunction('convertToInteractive',\n",
              "                                                     [key], {});\n",
              "          if (!dataTable) return;\n",
              "\n",
              "          const docLinkHtml = 'Like what you see? Visit the ' +\n",
              "            '<a target=\"_blank\" href=https://colab.research.google.com/notebooks/data_table.ipynb>data table notebook</a>'\n",
              "            + ' to learn more about interactive tables.';\n",
              "          element.innerHTML = '';\n",
              "          dataTable['output_type'] = 'display_data';\n",
              "          await google.colab.output.renderOutput(dataTable, element);\n",
              "          const docLink = document.createElement('div');\n",
              "          docLink.innerHTML = docLinkHtml;\n",
              "          element.appendChild(docLink);\n",
              "        }\n",
              "      </script>\n",
              "    </div>\n",
              "  </div>\n",
              "  "
            ]
          },
          "metadata": {},
          "execution_count": 18
        }
      ]
    },
    {
      "cell_type": "markdown",
      "source": [
        "# BERT + Pengukuran Jarak"
      ],
      "metadata": {
        "id": "fR7hIbP8MjzR"
      }
    },
    {
      "cell_type": "markdown",
      "source": [
        "### Gensim BERT"
      ],
      "metadata": {
        "id": "FL0A3T6guCnY"
      }
    },
    {
      "cell_type": "code",
      "source": [
        "def singleton(cls):\n",
        "    instance = None\n",
        "    @wraps(cls)\n",
        "    def inner(*args, **kwargs):\n",
        "        nonlocal instance\n",
        "        if instance is None:\n",
        "            instance = cls(*args, **kwargs)\n",
        "        return instance\n",
        "    return inner"
      ],
      "metadata": {
        "id": "rlvqygdjuOM0"
      },
      "execution_count": null,
      "outputs": []
    },
    {
      "cell_type": "code",
      "source": [
        "class BertEmbedder(object):\n",
        "    \"\"\"\n",
        "    Embedding Wrapper on Bert Multilingual Cased\n",
        "    \"\"\"\n",
        "    def __init__(self, path=''):\n",
        "        # use self.model_file with a path instead of 'bert-base-uncased' if you have a custom pretrained model\n",
        "        self.model_file = 'bert-base-multilingual-cased'#os.path.join(path, \"bert-base-multilingual-cased.tar.gz\")\n",
        "        self.vocab_file = 'bert-base-multilingual-cased'#os.path.join(path, \"data_bert-base-multilingual-cased-vocab.txt\")\n",
        "        self.model = self.bert_model()\n",
        "        self.tokenizer = self.bert_tokenizer()\n",
        "        self.embedding_matrix = self.get_bert_embed_matrix()\n",
        "\n",
        "    @singleton\n",
        "    def bert_model(self):\n",
        "        model = BertModel.from_pretrained(self.model_file).eval()\n",
        "        return model\n",
        "\n",
        "    @singleton\n",
        "    def bert_tokenizer(self):\n",
        "        tokenizer = BertTokenizer.from_pretrained(self.vocab_file, do_lower_case=False) \n",
        "        return tokenizer\n",
        "\n",
        "    @singleton\n",
        "    def get_bert_embed_matrix(self):\n",
        "        bert_embeddings = list(self.model.children())[0]\n",
        "        bert_word_embeddings = list(bert_embeddings.children())[0]\n",
        "        matrix = bert_word_embeddings.weight.data.numpy()\n",
        "        return matrix\n",
        "\n",
        "    def sentence_embedding(self, text):\n",
        "        token_list = self.tokenizer.tokenize(\"[CLS] \" + text + \" [SEP]\")\n",
        "        segments_ids, indexed_tokens = [1] * len(token_list), self.tokenizer.convert_tokens_to_ids(token_list)\n",
        "        segments_tensors, tokens_tensor = torch.tensor([segments_ids]), torch.tensor([indexed_tokens])\n",
        "        with torch.no_grad():\n",
        "            encoded_layers, _ = self.model(tokens_tensor, segments_tensors)\n",
        "        sent_embedding = torch.mean(encoded_layers[11], 1)\n",
        "        return sent_embedding\n",
        "    \n",
        "    def sentences_embedding(self, text_list):\n",
        "        embeddings = []\n",
        "        for text in tqdm(text_list):\n",
        "            token_list = self.tokenizer.tokenize(\"[CLS] \" + text + \" [SEP]\")\n",
        "            segments_ids, indexed_tokens = [1] * len(token_list), self.tokenizer.convert_tokens_to_ids(token_list)\n",
        "            segments_tensors, tokens_tensor = torch.tensor([segments_ids]), torch.tensor([indexed_tokens])\n",
        "            with torch.no_grad():\n",
        "                encoded_layers, _ = self.model(tokens_tensor, segments_tensors)\n",
        "            sent_embedding = torch.mean(encoded_layers[11], 1)\n",
        "            embeddings.append(sent_embedding)\n",
        "        return embeddings\n",
        "\n",
        "    def token_embedding(self, token_list):\n",
        "        token_embedding = []\n",
        "        for token in token_list:\n",
        "            ontoken = self.tokenizer.tokenize(token)\n",
        "            segments_ids, indexed_tokens = [1] * len(ontoken), self.tokenizer.convert_tokens_to_ids(ontoken)\n",
        "            segments_tensors, tokens_tensor = torch.tensor([segments_ids]), torch.tensor([indexed_tokens])\n",
        "            with torch.no_grad():\n",
        "                encoded_layers, _ = self.model(tokens_tensor, segments_tensors)\n",
        "            ontoken_embeddings = []\n",
        "            for subtoken_i in range(len(ontoken)):\n",
        "                hidden_layers = []\n",
        "                for layer_i in range(len(encoded_layers)):\n",
        "                    vector = encoded_layers[layer_i][0][subtoken_i]\n",
        "                    hidden_layers.append(vector)\n",
        "                ontoken_embeddings.append(hidden_layers)\n",
        "            cat_last_4_layers = [torch.cat((layer[-4:]), 0) for layer in ontoken_embeddings]\n",
        "            token_embedding.append(cat_last_4_layers)\n",
        "        token_embedding = torch.stack(token_embedding[0], 0) if len(token_embedding) > 1 else token_embedding[0][0]\n",
        "        return token_embedding"
      ],
      "metadata": {
        "id": "zySHcaW7uXeo"
      },
      "execution_count": null,
      "outputs": []
    },
    {
      "cell_type": "code",
      "source": [
        "class BertIndexer():\n",
        "    def __init__(self, bert_model=BertEmbedder()):\n",
        "        self.model = bert_model\n",
        "        self.space_type = 'cosinesimil'\n",
        "        self.method_name = 'hnsw'\n",
        "        self.index = nmslib.init(space  = self.space_type,\n",
        "                    method = self.method_name,\n",
        "                    data_type = nmslib.DataType.DENSE_VECTOR,\n",
        "                    dtype = nmslib.DistType.FLOAT)\n",
        "        self.index_params = {'NN' : 15}\n",
        "        self.index_is_loaded = False\n",
        "        self.data = []\n",
        "\n",
        "        class IndexError(Exception):\n",
        "            \"\"\"Base class for other exceptions\"\"\"\n",
        "            pass\n",
        "        \n",
        "    def load_index(self, index_path, data):\n",
        "        self.index.loadIndex( index_path, load_data=True)\n",
        "        self.index_is_loaded = True\n",
        "        self.data = data\n",
        "\n",
        "    def create_index(self, index_path, data):\n",
        "        names_sparse_matrix = self.make_data_embeddings(data)\n",
        "        self.index.addDataPointBatch(data = names_sparse_matrix)\n",
        "        self.index.createIndex( print_progress=True)\n",
        "        self.index.saveIndex(index_path, save_data=True)\n",
        "        self.index_is_loaded = True\n",
        "        self.data = data\n",
        "    \n",
        "    def create_embedding(self, text):\n",
        "        return self.model.sentence_embedding(text).numpy()\n",
        "        \n",
        "    def make_data_embeddings(self, data):\n",
        "        names_sparse_matrix = []\n",
        "        for i in tqdm(range(len(data))):\n",
        "            try:\n",
        "                names_sparse_matrix.append(self.model.sentence_embedding(data[i])[0].numpy())\n",
        "            except:\n",
        "                names_sparse_matrix.append(np.zeros(768))\n",
        "        return names_sparse_matrix\n",
        "\n",
        "    def return_closest(self, text, k=2, num_threads=2):\n",
        "        if self.index_is_loaded:\n",
        "            r = self.model.sentence_embedding(text).numpy()\n",
        "            near_neighbors = self.index.knnQueryBatch(queries=[r], k=k, num_threads=num_threads)\n",
        "            return [self.data[i] for i in near_neighbors[0][0]]\n",
        "        else: raise IndexError(\"Index is not yet created or loaded\")"
      ],
      "metadata": {
        "id": "gedrbPqEua9Y",
        "colab": {
          "base_uri": "https://localhost:8080/"
        },
        "outputId": "7aca57b8-e70d-4c8a-8e3f-70a813a778e7"
      },
      "execution_count": null,
      "outputs": [
        {
          "output_type": "stream",
          "name": "stderr",
          "text": [
            "100%|██████████| 662804195/662804195 [00:16<00:00, 39088696.53B/s]\n",
            "100%|██████████| 995526/995526 [00:00<00:00, 3189087.08B/s]\n"
          ]
        }
      ]
    },
    {
      "cell_type": "markdown",
      "source": [
        "### Word Embedding"
      ],
      "metadata": {
        "id": "gzTNBcCWwibR"
      }
    },
    {
      "cell_type": "code",
      "source": [
        "indexer = BertIndexer()"
      ],
      "metadata": {
        "id": "7Z7FWUmNucp2"
      },
      "execution_count": null,
      "outputs": []
    },
    {
      "cell_type": "code",
      "source": [
        "sentences = train_df.data['cleaned_text']\n",
        "embedding = indexer.make_data_embeddings(sentences)"
      ],
      "metadata": {
        "id": "m5lMUyteuxcy",
        "colab": {
          "base_uri": "https://localhost:8080/"
        },
        "outputId": "5fa5be60-d986-48f2-f184-846143b71bfc"
      },
      "execution_count": null,
      "outputs": [
        {
          "output_type": "stream",
          "name": "stderr",
          "text": [
            "100%|██████████| 30628/30628 [35:06<00:00, 14.54it/s]\n"
          ]
        }
      ]
    },
    {
      "cell_type": "code",
      "source": [
        "len(embedding)"
      ],
      "metadata": {
        "id": "FOR5J_Akw2as",
        "colab": {
          "base_uri": "https://localhost:8080/"
        },
        "outputId": "9d954f16-7d97-4133-c78d-29badd9a4310"
      },
      "execution_count": null,
      "outputs": [
        {
          "output_type": "execute_result",
          "data": {
            "text/plain": [
              "30628"
            ]
          },
          "metadata": {},
          "execution_count": 24
        }
      ]
    },
    {
      "cell_type": "code",
      "source": [
        "test_df = NLP(test_df)\n",
        "test_df.preprocess_df()"
      ],
      "metadata": {
        "id": "qlVmF31u0S0Z"
      },
      "execution_count": null,
      "outputs": []
    },
    {
      "cell_type": "code",
      "source": [
        "np.array(embedding).shape"
      ],
      "metadata": {
        "id": "ZAPLHcXrJDtt",
        "colab": {
          "base_uri": "https://localhost:8080/"
        },
        "outputId": "c727830e-5084-4b33-8c4d-b2ac8990accf"
      },
      "execution_count": null,
      "outputs": [
        {
          "output_type": "execute_result",
          "data": {
            "text/plain": [
              "(30628, 768)"
            ]
          },
          "metadata": {},
          "execution_count": 26
        }
      ]
    },
    {
      "cell_type": "markdown",
      "source": [
        "### Visualisasi Padding"
      ],
      "metadata": {
        "id": "g6I1Wm1QT-HL"
      }
    },
    {
      "cell_type": "code",
      "source": [
        "# mengambil nilai embedding\n",
        "result_embed = {}\n",
        "list_embed = []\n",
        "list_pad = []\n",
        "\n",
        "for list_ in embedding[:10]: # mengambil sample 10 baris data\n",
        "  jml_embed = 0\n",
        "  jml_pad = 0\n",
        "  for angka in list_:\n",
        "    if angka != 0:\n",
        "      jml_embed += 1\n",
        "    else:\n",
        "      jml_pad += 1\n",
        "  \n",
        "  list_embed.append(jml_embed)\n",
        "  list_pad.append(jml_pad)\n",
        "\n",
        "result_embed['embed'] = list_embed\n",
        "result_embed['padding'] = list_pad\n",
        "plot_df = pd.DataFrame(result_embed)"
      ],
      "metadata": {
        "id": "SCIVuyqrMP2M"
      },
      "execution_count": null,
      "outputs": []
    },
    {
      "cell_type": "code",
      "source": [
        "plot_df"
      ],
      "metadata": {
        "id": "tWjFVwm6O2b9",
        "colab": {
          "base_uri": "https://localhost:8080/",
          "height": 363
        },
        "outputId": "9214a384-c2d5-4d1a-ccbc-b3a6d73411a3"
      },
      "execution_count": null,
      "outputs": [
        {
          "output_type": "execute_result",
          "data": {
            "text/plain": [
              "   embed  padding\n",
              "0    768        0\n",
              "1    768        0\n",
              "2    768        0\n",
              "3    768        0\n",
              "4    768        0\n",
              "5    768        0\n",
              "6    768        0\n",
              "7    768        0\n",
              "8    768        0\n",
              "9    768        0"
            ],
            "text/html": [
              "\n",
              "  <div id=\"df-057fe089-1977-444e-a6c7-88a923abd837\">\n",
              "    <div class=\"colab-df-container\">\n",
              "      <div>\n",
              "<style scoped>\n",
              "    .dataframe tbody tr th:only-of-type {\n",
              "        vertical-align: middle;\n",
              "    }\n",
              "\n",
              "    .dataframe tbody tr th {\n",
              "        vertical-align: top;\n",
              "    }\n",
              "\n",
              "    .dataframe thead th {\n",
              "        text-align: right;\n",
              "    }\n",
              "</style>\n",
              "<table border=\"1\" class=\"dataframe\">\n",
              "  <thead>\n",
              "    <tr style=\"text-align: right;\">\n",
              "      <th></th>\n",
              "      <th>embed</th>\n",
              "      <th>padding</th>\n",
              "    </tr>\n",
              "  </thead>\n",
              "  <tbody>\n",
              "    <tr>\n",
              "      <th>0</th>\n",
              "      <td>768</td>\n",
              "      <td>0</td>\n",
              "    </tr>\n",
              "    <tr>\n",
              "      <th>1</th>\n",
              "      <td>768</td>\n",
              "      <td>0</td>\n",
              "    </tr>\n",
              "    <tr>\n",
              "      <th>2</th>\n",
              "      <td>768</td>\n",
              "      <td>0</td>\n",
              "    </tr>\n",
              "    <tr>\n",
              "      <th>3</th>\n",
              "      <td>768</td>\n",
              "      <td>0</td>\n",
              "    </tr>\n",
              "    <tr>\n",
              "      <th>4</th>\n",
              "      <td>768</td>\n",
              "      <td>0</td>\n",
              "    </tr>\n",
              "    <tr>\n",
              "      <th>5</th>\n",
              "      <td>768</td>\n",
              "      <td>0</td>\n",
              "    </tr>\n",
              "    <tr>\n",
              "      <th>6</th>\n",
              "      <td>768</td>\n",
              "      <td>0</td>\n",
              "    </tr>\n",
              "    <tr>\n",
              "      <th>7</th>\n",
              "      <td>768</td>\n",
              "      <td>0</td>\n",
              "    </tr>\n",
              "    <tr>\n",
              "      <th>8</th>\n",
              "      <td>768</td>\n",
              "      <td>0</td>\n",
              "    </tr>\n",
              "    <tr>\n",
              "      <th>9</th>\n",
              "      <td>768</td>\n",
              "      <td>0</td>\n",
              "    </tr>\n",
              "  </tbody>\n",
              "</table>\n",
              "</div>\n",
              "      <button class=\"colab-df-convert\" onclick=\"convertToInteractive('df-057fe089-1977-444e-a6c7-88a923abd837')\"\n",
              "              title=\"Convert this dataframe to an interactive table.\"\n",
              "              style=\"display:none;\">\n",
              "        \n",
              "  <svg xmlns=\"http://www.w3.org/2000/svg\" height=\"24px\"viewBox=\"0 0 24 24\"\n",
              "       width=\"24px\">\n",
              "    <path d=\"M0 0h24v24H0V0z\" fill=\"none\"/>\n",
              "    <path d=\"M18.56 5.44l.94 2.06.94-2.06 2.06-.94-2.06-.94-.94-2.06-.94 2.06-2.06.94zm-11 1L8.5 8.5l.94-2.06 2.06-.94-2.06-.94L8.5 2.5l-.94 2.06-2.06.94zm10 10l.94 2.06.94-2.06 2.06-.94-2.06-.94-.94-2.06-.94 2.06-2.06.94z\"/><path d=\"M17.41 7.96l-1.37-1.37c-.4-.4-.92-.59-1.43-.59-.52 0-1.04.2-1.43.59L10.3 9.45l-7.72 7.72c-.78.78-.78 2.05 0 2.83L4 21.41c.39.39.9.59 1.41.59.51 0 1.02-.2 1.41-.59l7.78-7.78 2.81-2.81c.8-.78.8-2.07 0-2.86zM5.41 20L4 18.59l7.72-7.72 1.47 1.35L5.41 20z\"/>\n",
              "  </svg>\n",
              "      </button>\n",
              "      \n",
              "  <style>\n",
              "    .colab-df-container {\n",
              "      display:flex;\n",
              "      flex-wrap:wrap;\n",
              "      gap: 12px;\n",
              "    }\n",
              "\n",
              "    .colab-df-convert {\n",
              "      background-color: #E8F0FE;\n",
              "      border: none;\n",
              "      border-radius: 50%;\n",
              "      cursor: pointer;\n",
              "      display: none;\n",
              "      fill: #1967D2;\n",
              "      height: 32px;\n",
              "      padding: 0 0 0 0;\n",
              "      width: 32px;\n",
              "    }\n",
              "\n",
              "    .colab-df-convert:hover {\n",
              "      background-color: #E2EBFA;\n",
              "      box-shadow: 0px 1px 2px rgba(60, 64, 67, 0.3), 0px 1px 3px 1px rgba(60, 64, 67, 0.15);\n",
              "      fill: #174EA6;\n",
              "    }\n",
              "\n",
              "    [theme=dark] .colab-df-convert {\n",
              "      background-color: #3B4455;\n",
              "      fill: #D2E3FC;\n",
              "    }\n",
              "\n",
              "    [theme=dark] .colab-df-convert:hover {\n",
              "      background-color: #434B5C;\n",
              "      box-shadow: 0px 1px 3px 1px rgba(0, 0, 0, 0.15);\n",
              "      filter: drop-shadow(0px 1px 2px rgba(0, 0, 0, 0.3));\n",
              "      fill: #FFFFFF;\n",
              "    }\n",
              "  </style>\n",
              "\n",
              "      <script>\n",
              "        const buttonEl =\n",
              "          document.querySelector('#df-057fe089-1977-444e-a6c7-88a923abd837 button.colab-df-convert');\n",
              "        buttonEl.style.display =\n",
              "          google.colab.kernel.accessAllowed ? 'block' : 'none';\n",
              "\n",
              "        async function convertToInteractive(key) {\n",
              "          const element = document.querySelector('#df-057fe089-1977-444e-a6c7-88a923abd837');\n",
              "          const dataTable =\n",
              "            await google.colab.kernel.invokeFunction('convertToInteractive',\n",
              "                                                     [key], {});\n",
              "          if (!dataTable) return;\n",
              "\n",
              "          const docLinkHtml = 'Like what you see? Visit the ' +\n",
              "            '<a target=\"_blank\" href=https://colab.research.google.com/notebooks/data_table.ipynb>data table notebook</a>'\n",
              "            + ' to learn more about interactive tables.';\n",
              "          element.innerHTML = '';\n",
              "          dataTable['output_type'] = 'display_data';\n",
              "          await google.colab.output.renderOutput(dataTable, element);\n",
              "          const docLink = document.createElement('div');\n",
              "          docLink.innerHTML = docLinkHtml;\n",
              "          element.appendChild(docLink);\n",
              "        }\n",
              "      </script>\n",
              "    </div>\n",
              "  </div>\n",
              "  "
            ]
          },
          "metadata": {},
          "execution_count": 28
        }
      ]
    },
    {
      "cell_type": "code",
      "source": [
        "plot_df.plot.barh(stacked=True);"
      ],
      "metadata": {
        "id": "hDbu6iVoQwvS",
        "colab": {
          "base_uri": "https://localhost:8080/",
          "height": 265
        },
        "outputId": "df8b0e9c-c508-4460-e3bc-0c63890c2c89"
      },
      "execution_count": null,
      "outputs": [
        {
          "output_type": "display_data",
          "data": {
            "text/plain": [
              "<Figure size 432x288 with 1 Axes>"
            ],
            "image/png": "[encoded data removed]"
          },
          "metadata": {
            "needs_background": "light"
          }
        }
      ]
    },
    {
      "cell_type": "markdown",
      "source": [
        "### BERT + Cosine Similarity"
      ],
      "metadata": {
        "id": "kzChYQ6UM4lA"
      }
    },
    {
      "cell_type": "code",
      "source": [
        "# cosine similarity\n",
        "from sklearn.metrics.pairwise import cosine_similarity"
      ],
      "metadata": {
        "id": "jxyu8PMYM8Wg"
      },
      "execution_count": null,
      "outputs": []
    },
    {
      "cell_type": "code",
      "source": [
        "# Testing\n",
        "sample_text = random.sample(test_df.data['cleaned_text'].tolist(), 1)[0]\n",
        "confidence = 0.5\n",
        "result_list_cosine = []\n",
        "result_df_cosine = []\n",
        "relevant_list_cosine = []\n",
        "\n",
        "# ubah kata ke bentuk vector\n",
        "sample_embedd = indexer.create_embedding(sample_text)\n",
        "score_cosine = find_distance(sample_embedd, embedding, cosine_similarity)\n",
        "score_cosine"
      ],
      "metadata": {
        "id": "DIj1c4aoURDU",
        "colab": {
          "base_uri": "https://localhost:8080/"
        },
        "outputId": "50137120-1b27-4e8a-f4cf-b54c9b7391c9"
      },
      "execution_count": null,
      "outputs": [
        {
          "output_type": "execute_result",
          "data": {
            "text/plain": [
              "array([[0.773796  , 0.76616627, 0.72935987, ..., 0.7500043 , 0.689734  ,\n",
              "        0.775446  ]], dtype=float32)"
            ]
          },
          "metadata": {},
          "execution_count": 33
        }
      ]
    },
    {
      "cell_type": "code",
      "source": [
        "# sort data berdasarkan threshold\n",
        "for score in score_cosine:\n",
        "  score = [value for value in score]\n",
        "  result_list_cosine = score\n",
        "\n",
        "for sent, id_video, score in zip(df['deskripsi'], df['id_video'], result_list_cosine):\n",
        "  if score >= confidence:\n",
        "    result_df_cosine.append((id_video, sent, score))\n",
        "    relevant_list_cosine.append(score)"
      ],
      "metadata": {
        "id": "s3i_QxQogOqv"
      },
      "execution_count": null,
      "outputs": []
    },
    {
      "cell_type": "code",
      "source": [
        "print(\"Sample Text : \", sample_text)\n",
        "\n",
        "top = 10\n",
        "result = pd.DataFrame(result_df_cosine, columns=['id_video', 'deskripsi', 'similarity_score'])\n",
        "result = result.drop_duplicates(subset='id_video')\n",
        "display(result.sort_values('similarity_score', ascending=False).head(top))"
      ],
      "metadata": {
        "id": "CyqlkWD2hUi4",
        "colab": {
          "base_uri": "https://localhost:8080/",
          "height": 381
        },
        "outputId": "18b2095b-662f-4be6-e804-60bd3920729e"
      },
      "execution_count": null,
      "outputs": [
        {
          "output_type": "stream",
          "name": "stdout",
          "text": [
            "Sample Text :  anjing bermain papan luncur\n"
          ]
        },
        {
          "output_type": "display_data",
          "data": {
            "text/plain": [
              "       id_video                                    deskripsi  similarity_score\n",
              "30183      1393                  sedang bermain Papan luncur          0.954080\n",
              "15701       656                bermain papan seluncur di air          0.928312\n",
              "15679       655                         lomba papan seluncur          0.890082\n",
              "29442      1279                 Anjing bermain dengan cermin          0.877806\n",
              "23928      1008                         Anjing bermain balon          0.869025\n",
              "16941       741                           anjing bermain air          0.867775\n",
              "29317      1253                 anjing sedang bermain boneka          0.866286\n",
              "3015        130  dua ekor anjing sedang bermain dan bercanda          0.865809\n",
              "30383      1351             kucing dan anjing sedang bermain          0.864381\n",
              "1894         95            anjing yang sedang bermain basket          0.860221"
            ],
            "text/html": [
              "\n",
              "  <div id=\"df-376c2796-cdc5-42c2-89ae-a86d0036199d\">\n",
              "    <div class=\"colab-df-container\">\n",
              "      <div>\n",
              "<style scoped>\n",
              "    .dataframe tbody tr th:only-of-type {\n",
              "        vertical-align: middle;\n",
              "    }\n",
              "\n",
              "    .dataframe tbody tr th {\n",
              "        vertical-align: top;\n",
              "    }\n",
              "\n",
              "    .dataframe thead th {\n",
              "        text-align: right;\n",
              "    }\n",
              "</style>\n",
              "<table border=\"1\" class=\"dataframe\">\n",
              "  <thead>\n",
              "    <tr style=\"text-align: right;\">\n",
              "      <th></th>\n",
              "      <th>id_video</th>\n",
              "      <th>deskripsi</th>\n",
              "      <th>similarity_score</th>\n",
              "    </tr>\n",
              "  </thead>\n",
              "  <tbody>\n",
              "    <tr>\n",
              "      <th>30183</th>\n",
              "      <td>1393</td>\n",
              "      <td>sedang bermain Papan luncur</td>\n",
              "      <td>0.954080</td>\n",
              "    </tr>\n",
              "    <tr>\n",
              "      <th>15701</th>\n",
              "      <td>656</td>\n",
              "      <td>bermain papan seluncur di air</td>\n",
              "      <td>0.928312</td>\n",
              "    </tr>\n",
              "    <tr>\n",
              "      <th>15679</th>\n",
              "      <td>655</td>\n",
              "      <td>lomba papan seluncur</td>\n",
              "      <td>0.890082</td>\n",
              "    </tr>\n",
              "    <tr>\n",
              "      <th>29442</th>\n",
              "      <td>1279</td>\n",
              "      <td>Anjing bermain dengan cermin</td>\n",
              "      <td>0.877806</td>\n",
              "    </tr>\n",
              "    <tr>\n",
              "      <th>23928</th>\n",
              "      <td>1008</td>\n",
              "      <td>Anjing bermain balon</td>\n",
              "      <td>0.869025</td>\n",
              "    </tr>\n",
              "    <tr>\n",
              "      <th>16941</th>\n",
              "      <td>741</td>\n",
              "      <td>anjing bermain air</td>\n",
              "      <td>0.867775</td>\n",
              "    </tr>\n",
              "    <tr>\n",
              "      <th>29317</th>\n",
              "      <td>1253</td>\n",
              "      <td>anjing sedang bermain boneka</td>\n",
              "      <td>0.866286</td>\n",
              "    </tr>\n",
              "    <tr>\n",
              "      <th>3015</th>\n",
              "      <td>130</td>\n",
              "      <td>dua ekor anjing sedang bermain dan bercanda</td>\n",
              "      <td>0.865809</td>\n",
              "    </tr>\n",
              "    <tr>\n",
              "      <th>30383</th>\n",
              "      <td>1351</td>\n",
              "      <td>kucing dan anjing sedang bermain</td>\n",
              "      <td>0.864381</td>\n",
              "    </tr>\n",
              "    <tr>\n",
              "      <th>1894</th>\n",
              "      <td>95</td>\n",
              "      <td>anjing yang sedang bermain basket</td>\n",
              "      <td>0.860221</td>\n",
              "    </tr>\n",
              "  </tbody>\n",
              "</table>\n",
              "</div>\n",
              "      <button class=\"colab-df-convert\" onclick=\"convertToInteractive('df-376c2796-cdc5-42c2-89ae-a86d0036199d')\"\n",
              "              title=\"Convert this dataframe to an interactive table.\"\n",
              "              style=\"display:none;\">\n",
              "        \n",
              "  <svg xmlns=\"http://www.w3.org/2000/svg\" height=\"24px\"viewBox=\"0 0 24 24\"\n",
              "       width=\"24px\">\n",
              "    <path d=\"M0 0h24v24H0V0z\" fill=\"none\"/>\n",
              "    <path d=\"M18.56 5.44l.94 2.06.94-2.06 2.06-.94-2.06-.94-.94-2.06-.94 2.06-2.06.94zm-11 1L8.5 8.5l.94-2.06 2.06-.94-2.06-.94L8.5 2.5l-.94 2.06-2.06.94zm10 10l.94 2.06.94-2.06 2.06-.94-2.06-.94-.94-2.06-.94 2.06-2.06.94z\"/><path d=\"M17.41 7.96l-1.37-1.37c-.4-.4-.92-.59-1.43-.59-.52 0-1.04.2-1.43.59L10.3 9.45l-7.72 7.72c-.78.78-.78 2.05 0 2.83L4 21.41c.39.39.9.59 1.41.59.51 0 1.02-.2 1.41-.59l7.78-7.78 2.81-2.81c.8-.78.8-2.07 0-2.86zM5.41 20L4 18.59l7.72-7.72 1.47 1.35L5.41 20z\"/>\n",
              "  </svg>\n",
              "      </button>\n",
              "      \n",
              "  <style>\n",
              "    .colab-df-container {\n",
              "      display:flex;\n",
              "      flex-wrap:wrap;\n",
              "      gap: 12px;\n",
              "    }\n",
              "\n",
              "    .colab-df-convert {\n",
              "      background-color: #E8F0FE;\n",
              "      border: none;\n",
              "      border-radius: 50%;\n",
              "      cursor: pointer;\n",
              "      display: none;\n",
              "      fill: #1967D2;\n",
              "      height: 32px;\n",
              "      padding: 0 0 0 0;\n",
              "      width: 32px;\n",
              "    }\n",
              "\n",
              "    .colab-df-convert:hover {\n",
              "      background-color: #E2EBFA;\n",
              "      box-shadow: 0px 1px 2px rgba(60, 64, 67, 0.3), 0px 1px 3px 1px rgba(60, 64, 67, 0.15);\n",
              "      fill: #174EA6;\n",
              "    }\n",
              "\n",
              "    [theme=dark] .colab-df-convert {\n",
              "      background-color: #3B4455;\n",
              "      fill: #D2E3FC;\n",
              "    }\n",
              "\n",
              "    [theme=dark] .colab-df-convert:hover {\n",
              "      background-color: #434B5C;\n",
              "      box-shadow: 0px 1px 3px 1px rgba(0, 0, 0, 0.15);\n",
              "      filter: drop-shadow(0px 1px 2px rgba(0, 0, 0, 0.3));\n",
              "      fill: #FFFFFF;\n",
              "    }\n",
              "  </style>\n",
              "\n",
              "      <script>\n",
              "        const buttonEl =\n",
              "          document.querySelector('#df-376c2796-cdc5-42c2-89ae-a86d0036199d button.colab-df-convert');\n",
              "        buttonEl.style.display =\n",
              "          google.colab.kernel.accessAllowed ? 'block' : 'none';\n",
              "\n",
              "        async function convertToInteractive(key) {\n",
              "          const element = document.querySelector('#df-376c2796-cdc5-42c2-89ae-a86d0036199d');\n",
              "          const dataTable =\n",
              "            await google.colab.kernel.invokeFunction('convertToInteractive',\n",
              "                                                     [key], {});\n",
              "          if (!dataTable) return;\n",
              "\n",
              "          const docLinkHtml = 'Like what you see? Visit the ' +\n",
              "            '<a target=\"_blank\" href=https://colab.research.google.com/notebooks/data_table.ipynb>data table notebook</a>'\n",
              "            + ' to learn more about interactive tables.';\n",
              "          element.innerHTML = '';\n",
              "          dataTable['output_type'] = 'display_data';\n",
              "          await google.colab.output.renderOutput(dataTable, element);\n",
              "          const docLink = document.createElement('div');\n",
              "          docLink.innerHTML = docLinkHtml;\n",
              "          element.appendChild(docLink);\n",
              "        }\n",
              "      </script>\n",
              "    </div>\n",
              "  </div>\n",
              "  "
            ]
          },
          "metadata": {}
        }
      ]
    },
    {
      "cell_type": "markdown",
      "source": [
        "### BERT + Jaccard"
      ],
      "metadata": {
        "id": "bX_7h2IONJGi"
      }
    },
    {
      "cell_type": "code",
      "source": [
        "def jaccard_set(list1, list2):\n",
        "    \"\"\"Define Jaccard Similarity function for two sets\"\"\"\n",
        "    intersection = len(list(set(list1[0]).intersection(list2)))\n",
        "    union = (len(list1[0]) + len(list2)) - intersection\n",
        "    return (float(intersection) / union) *1000"
      ],
      "metadata": {
        "id": "bT_VdeMU3zfV"
      },
      "execution_count": null,
      "outputs": []
    },
    {
      "cell_type": "code",
      "source": [
        "# Testing\n",
        "sample_text = random.sample(test_df.data['cleaned_text'].tolist(), 1)[0]\n",
        "confidence = 0.5\n",
        "result_list_jaccard = []\n",
        "result_df_jaccard = []\n",
        "relevant_list_jaccard = []\n",
        "\n",
        "# ubah kata ke bentuk vector\n",
        "sample_embedd = indexer.create_embedding(sample_text)\n",
        "\n",
        "jaccard_sim_scores = []\n",
        "for desc in embedding:\n",
        "  sim_score = jaccard_set(sample_embedd, desc)\n",
        "  jaccard_sim_scores.append(sim_score)"
      ],
      "metadata": {
        "id": "IyKMB6pINLhJ"
      },
      "execution_count": null,
      "outputs": []
    },
    {
      "cell_type": "code",
      "source": [
        "# sort data berdasarkan threshold\n",
        "# for score in jaccard_sim_scores:\n",
        "#   score = [value for value in score]\n",
        "#   result_list = score\n",
        "result_list_jaccard = jaccard_sim_scores\n",
        "\n",
        "for sent, id_video, score in zip(df['deskripsi'], df['id_video'], result_list_jaccard):\n",
        "  if score >= confidence:\n",
        "    result_df_jaccard.append((id_video, sent, score))\n",
        "    relevant_list_jaccard.append(score)"
      ],
      "metadata": {
        "id": "grcCkWmBy386"
      },
      "execution_count": null,
      "outputs": []
    },
    {
      "cell_type": "code",
      "source": [
        "print(\"Sample Text: \", sample_text)\n",
        "\n",
        "top = 10\n",
        "result = pd.DataFrame(result_df_jaccard, columns=['id_video', 'deskripsi', 'similarity_score'])\n",
        "result = result.drop_duplicates()\n",
        "display(result.sort_values('similarity_score', ascending=False).head(top))"
      ],
      "metadata": {
        "id": "ZBufikO_zBoy",
        "colab": {
          "base_uri": "https://localhost:8080/",
          "height": 381
        },
        "outputId": "9d00a483-60b9-4993-fb0f-4e6f54a17b43"
      },
      "execution_count": null,
      "outputs": [
        {
          "output_type": "stream",
          "name": "stdout",
          "text": [
            "Sample Text:  memotong kayu\n"
          ]
        },
        {
          "output_type": "display_data",
          "data": {
            "text/plain": [
              "     id_video                               deskripsi  similarity_score\n",
              "185      1147                 seseorang memotong kayu       1000.000000\n",
              "175      1147       memotong kayu yang baik dan benar       1000.000000\n",
              "138       774                           Memotong kayu       1000.000000\n",
              "134       704                    Sedang memotong kayu       1000.000000\n",
              "179      1147                aku sedang memotong kayu       1000.000000\n",
              "178      1147                    sedang memotong kayu       1000.000000\n",
              "126       705                           memotong kayu       1000.000000\n",
              "139       774                           memotong kayu       1000.000000\n",
              "153       895  memasukkan minyak di atas penggorengan          0.651466\n",
              "157       966                  orang berteriak teriak          0.651466"
            ],
            "text/html": [
              "\n",
              "  <div id=\"df-1d7f8fe5-ef44-4702-942b-02608725550c\">\n",
              "    <div class=\"colab-df-container\">\n",
              "      <div>\n",
              "<style scoped>\n",
              "    .dataframe tbody tr th:only-of-type {\n",
              "        vertical-align: middle;\n",
              "    }\n",
              "\n",
              "    .dataframe tbody tr th {\n",
              "        vertical-align: top;\n",
              "    }\n",
              "\n",
              "    .dataframe thead th {\n",
              "        text-align: right;\n",
              "    }\n",
              "</style>\n",
              "<table border=\"1\" class=\"dataframe\">\n",
              "  <thead>\n",
              "    <tr style=\"text-align: right;\">\n",
              "      <th></th>\n",
              "      <th>id_video</th>\n",
              "      <th>deskripsi</th>\n",
              "      <th>similarity_score</th>\n",
              "    </tr>\n",
              "  </thead>\n",
              "  <tbody>\n",
              "    <tr>\n",
              "      <th>185</th>\n",
              "      <td>1147</td>\n",
              "      <td>seseorang memotong kayu</td>\n",
              "      <td>1000.000000</td>\n",
              "    </tr>\n",
              "    <tr>\n",
              "      <th>175</th>\n",
              "      <td>1147</td>\n",
              "      <td>memotong kayu yang baik dan benar</td>\n",
              "      <td>1000.000000</td>\n",
              "    </tr>\n",
              "    <tr>\n",
              "      <th>138</th>\n",
              "      <td>774</td>\n",
              "      <td>Memotong kayu</td>\n",
              "      <td>1000.000000</td>\n",
              "    </tr>\n",
              "    <tr>\n",
              "      <th>134</th>\n",
              "      <td>704</td>\n",
              "      <td>Sedang memotong kayu</td>\n",
              "      <td>1000.000000</td>\n",
              "    </tr>\n",
              "    <tr>\n",
              "      <th>179</th>\n",
              "      <td>1147</td>\n",
              "      <td>aku sedang memotong kayu</td>\n",
              "      <td>1000.000000</td>\n",
              "    </tr>\n",
              "    <tr>\n",
              "      <th>178</th>\n",
              "      <td>1147</td>\n",
              "      <td>sedang memotong kayu</td>\n",
              "      <td>1000.000000</td>\n",
              "    </tr>\n",
              "    <tr>\n",
              "      <th>126</th>\n",
              "      <td>705</td>\n",
              "      <td>memotong kayu</td>\n",
              "      <td>1000.000000</td>\n",
              "    </tr>\n",
              "    <tr>\n",
              "      <th>139</th>\n",
              "      <td>774</td>\n",
              "      <td>memotong kayu</td>\n",
              "      <td>1000.000000</td>\n",
              "    </tr>\n",
              "    <tr>\n",
              "      <th>153</th>\n",
              "      <td>895</td>\n",
              "      <td>memasukkan minyak di atas penggorengan</td>\n",
              "      <td>0.651466</td>\n",
              "    </tr>\n",
              "    <tr>\n",
              "      <th>157</th>\n",
              "      <td>966</td>\n",
              "      <td>orang berteriak teriak</td>\n",
              "      <td>0.651466</td>\n",
              "    </tr>\n",
              "  </tbody>\n",
              "</table>\n",
              "</div>\n",
              "      <button class=\"colab-df-convert\" onclick=\"convertToInteractive('df-1d7f8fe5-ef44-4702-942b-02608725550c')\"\n",
              "              title=\"Convert this dataframe to an interactive table.\"\n",
              "              style=\"display:none;\">\n",
              "        \n",
              "  <svg xmlns=\"http://www.w3.org/2000/svg\" height=\"24px\"viewBox=\"0 0 24 24\"\n",
              "       width=\"24px\">\n",
              "    <path d=\"M0 0h24v24H0V0z\" fill=\"none\"/>\n",
              "    <path d=\"M18.56 5.44l.94 2.06.94-2.06 2.06-.94-2.06-.94-.94-2.06-.94 2.06-2.06.94zm-11 1L8.5 8.5l.94-2.06 2.06-.94-2.06-.94L8.5 2.5l-.94 2.06-2.06.94zm10 10l.94 2.06.94-2.06 2.06-.94-2.06-.94-.94-2.06-.94 2.06-2.06.94z\"/><path d=\"M17.41 7.96l-1.37-1.37c-.4-.4-.92-.59-1.43-.59-.52 0-1.04.2-1.43.59L10.3 9.45l-7.72 7.72c-.78.78-.78 2.05 0 2.83L4 21.41c.39.39.9.59 1.41.59.51 0 1.02-.2 1.41-.59l7.78-7.78 2.81-2.81c.8-.78.8-2.07 0-2.86zM5.41 20L4 18.59l7.72-7.72 1.47 1.35L5.41 20z\"/>\n",
              "  </svg>\n",
              "      </button>\n",
              "      \n",
              "  <style>\n",
              "    .colab-df-container {\n",
              "      display:flex;\n",
              "      flex-wrap:wrap;\n",
              "      gap: 12px;\n",
              "    }\n",
              "\n",
              "    .colab-df-convert {\n",
              "      background-color: #E8F0FE;\n",
              "      border: none;\n",
              "      border-radius: 50%;\n",
              "      cursor: pointer;\n",
              "      display: none;\n",
              "      fill: #1967D2;\n",
              "      height: 32px;\n",
              "      padding: 0 0 0 0;\n",
              "      width: 32px;\n",
              "    }\n",
              "\n",
              "    .colab-df-convert:hover {\n",
              "      background-color: #E2EBFA;\n",
              "      box-shadow: 0px 1px 2px rgba(60, 64, 67, 0.3), 0px 1px 3px 1px rgba(60, 64, 67, 0.15);\n",
              "      fill: #174EA6;\n",
              "    }\n",
              "\n",
              "    [theme=dark] .colab-df-convert {\n",
              "      background-color: #3B4455;\n",
              "      fill: #D2E3FC;\n",
              "    }\n",
              "\n",
              "    [theme=dark] .colab-df-convert:hover {\n",
              "      background-color: #434B5C;\n",
              "      box-shadow: 0px 1px 3px 1px rgba(0, 0, 0, 0.15);\n",
              "      filter: drop-shadow(0px 1px 2px rgba(0, 0, 0, 0.3));\n",
              "      fill: #FFFFFF;\n",
              "    }\n",
              "  </style>\n",
              "\n",
              "      <script>\n",
              "        const buttonEl =\n",
              "          document.querySelector('#df-1d7f8fe5-ef44-4702-942b-02608725550c button.colab-df-convert');\n",
              "        buttonEl.style.display =\n",
              "          google.colab.kernel.accessAllowed ? 'block' : 'none';\n",
              "\n",
              "        async function convertToInteractive(key) {\n",
              "          const element = document.querySelector('#df-1d7f8fe5-ef44-4702-942b-02608725550c');\n",
              "          const dataTable =\n",
              "            await google.colab.kernel.invokeFunction('convertToInteractive',\n",
              "                                                     [key], {});\n",
              "          if (!dataTable) return;\n",
              "\n",
              "          const docLinkHtml = 'Like what you see? Visit the ' +\n",
              "            '<a target=\"_blank\" href=https://colab.research.google.com/notebooks/data_table.ipynb>data table notebook</a>'\n",
              "            + ' to learn more about interactive tables.';\n",
              "          element.innerHTML = '';\n",
              "          dataTable['output_type'] = 'display_data';\n",
              "          await google.colab.output.renderOutput(dataTable, element);\n",
              "          const docLink = document.createElement('div');\n",
              "          docLink.innerHTML = docLinkHtml;\n",
              "          element.appendChild(docLink);\n",
              "        }\n",
              "      </script>\n",
              "    </div>\n",
              "  </div>\n",
              "  "
            ]
          },
          "metadata": {}
        }
      ]
    },
    {
      "cell_type": "markdown",
      "source": [
        "### BERT + Euclidean"
      ],
      "metadata": {
        "id": "CNF2N4INM9ZQ"
      }
    },
    {
      "cell_type": "code",
      "source": [
        "# eulidean distance\n",
        "from sklearn.metrics.pairwise import euclidean_distances"
      ],
      "metadata": {
        "id": "Elmi0a1PNEc1"
      },
      "execution_count": null,
      "outputs": []
    },
    {
      "cell_type": "code",
      "source": [
        "# Testing\n",
        "sample_text = random.sample(test_df.data['cleaned_text'].tolist(), 1)[0]\n",
        "result_list_euclid = []\n",
        "result_df_euclid = []\n",
        "relevant_list_euclid = []\n",
        "\n",
        "# ubah kata ke bentuk vector\n",
        "sample_embedd = indexer.create_embedding(sample_text)\n",
        "score_euclid = find_distance(sample_embedd, embedding, euclidean_distances)\n",
        "score_euclid"
      ],
      "metadata": {
        "id": "SVke0quBmT5-",
        "colab": {
          "base_uri": "https://localhost:8080/"
        },
        "outputId": "79e55081-df97-4386-c26d-286049021ce6"
      },
      "execution_count": null,
      "outputs": [
        {
          "output_type": "execute_result",
          "data": {
            "text/plain": [
              "array([[4.690766 , 4.460666 , 4.3395424, ..., 4.5867467, 4.43671  ,\n",
              "        5.5639763]], dtype=float32)"
            ]
          },
          "metadata": {},
          "execution_count": 41
        }
      ]
    },
    {
      "cell_type": "code",
      "source": [
        "import math\n",
        "\n",
        "confidence = math.ceil(min(score_euclid[0]))\n",
        "print(\"Nilai Confindence: \", confidence)"
      ],
      "metadata": {
        "id": "6ys2JEzmzf80",
        "colab": {
          "base_uri": "https://localhost:8080/"
        },
        "outputId": "af6f829e-85cc-4dba-ad2b-1fc482448ab9"
      },
      "execution_count": null,
      "outputs": [
        {
          "output_type": "stream",
          "name": "stdout",
          "text": [
            "Nilai Confindence:  0\n"
          ]
        }
      ]
    },
    {
      "cell_type": "code",
      "source": [
        "# sort data berdasarkan threshold\n",
        "for score in score_euclid:\n",
        "  score = [value for value in score]\n",
        "  result_list_euclid = score\n",
        "\n",
        "for sent, id_video, score in zip(df['deskripsi'], df['id_video'], result_list_euclid):\n",
        "  if score <= confidence:\n",
        "    result_df_euclid.append((id_video, sent, score))\n",
        "    relevant_list_euclid.append(score)"
      ],
      "metadata": {
        "id": "yH7jjMEjmjiN"
      },
      "execution_count": null,
      "outputs": []
    },
    {
      "cell_type": "code",
      "source": [
        "print(\"Sample Text: \", sample_text)\n",
        "\n",
        "top = 10\n",
        "result = pd.DataFrame(result_df_euclid, columns=['id_video', 'deskripsi', 'similarity_score'])\n",
        "result = result.drop_duplicates()\n",
        "display(result.sort_values('similarity_score', ascending=True).head(top))"
      ],
      "metadata": {
        "id": "SWfjfXhOmfEd",
        "colab": {
          "base_uri": "https://localhost:8080/",
          "height": 193
        },
        "outputId": "a25bf0b6-b981-41e4-aea9-2db8f1dc2cb9"
      },
      "execution_count": null,
      "outputs": [
        {
          "output_type": "stream",
          "name": "stdout",
          "text": [
            "Sample Text:  mengaduk adonan kue\n"
          ]
        },
        {
          "output_type": "display_data",
          "data": {
            "text/plain": [
              "   id_video            deskripsi  similarity_score\n",
              "0        17  mengaduk adonan kue               0.0\n",
              "1       210  mengaduk adonan kue               0.0\n",
              "2       309  mengaduk adonan kue               0.0\n",
              "3      1165  mengaduk adonan kue               0.0"
            ],
            "text/html": [
              "\n",
              "  <div id=\"df-3c5eb3ac-438b-4c78-9601-e931e0c523db\">\n",
              "    <div class=\"colab-df-container\">\n",
              "      <div>\n",
              "<style scoped>\n",
              "    .dataframe tbody tr th:only-of-type {\n",
              "        vertical-align: middle;\n",
              "    }\n",
              "\n",
              "    .dataframe tbody tr th {\n",
              "        vertical-align: top;\n",
              "    }\n",
              "\n",
              "    .dataframe thead th {\n",
              "        text-align: right;\n",
              "    }\n",
              "</style>\n",
              "<table border=\"1\" class=\"dataframe\">\n",
              "  <thead>\n",
              "    <tr style=\"text-align: right;\">\n",
              "      <th></th>\n",
              "      <th>id_video</th>\n",
              "      <th>deskripsi</th>\n",
              "      <th>similarity_score</th>\n",
              "    </tr>\n",
              "  </thead>\n",
              "  <tbody>\n",
              "    <tr>\n",
              "      <th>0</th>\n",
              "      <td>17</td>\n",
              "      <td>mengaduk adonan kue</td>\n",
              "      <td>0.0</td>\n",
              "    </tr>\n",
              "    <tr>\n",
              "      <th>1</th>\n",
              "      <td>210</td>\n",
              "      <td>mengaduk adonan kue</td>\n",
              "      <td>0.0</td>\n",
              "    </tr>\n",
              "    <tr>\n",
              "      <th>2</th>\n",
              "      <td>309</td>\n",
              "      <td>mengaduk adonan kue</td>\n",
              "      <td>0.0</td>\n",
              "    </tr>\n",
              "    <tr>\n",
              "      <th>3</th>\n",
              "      <td>1165</td>\n",
              "      <td>mengaduk adonan kue</td>\n",
              "      <td>0.0</td>\n",
              "    </tr>\n",
              "  </tbody>\n",
              "</table>\n",
              "</div>\n",
              "      <button class=\"colab-df-convert\" onclick=\"convertToInteractive('df-3c5eb3ac-438b-4c78-9601-e931e0c523db')\"\n",
              "              title=\"Convert this dataframe to an interactive table.\"\n",
              "              style=\"display:none;\">\n",
              "        \n",
              "  <svg xmlns=\"http://www.w3.org/2000/svg\" height=\"24px\"viewBox=\"0 0 24 24\"\n",
              "       width=\"24px\">\n",
              "    <path d=\"M0 0h24v24H0V0z\" fill=\"none\"/>\n",
              "    <path d=\"M18.56 5.44l.94 2.06.94-2.06 2.06-.94-2.06-.94-.94-2.06-.94 2.06-2.06.94zm-11 1L8.5 8.5l.94-2.06 2.06-.94-2.06-.94L8.5 2.5l-.94 2.06-2.06.94zm10 10l.94 2.06.94-2.06 2.06-.94-2.06-.94-.94-2.06-.94 2.06-2.06.94z\"/><path d=\"M17.41 7.96l-1.37-1.37c-.4-.4-.92-.59-1.43-.59-.52 0-1.04.2-1.43.59L10.3 9.45l-7.72 7.72c-.78.78-.78 2.05 0 2.83L4 21.41c.39.39.9.59 1.41.59.51 0 1.02-.2 1.41-.59l7.78-7.78 2.81-2.81c.8-.78.8-2.07 0-2.86zM5.41 20L4 18.59l7.72-7.72 1.47 1.35L5.41 20z\"/>\n",
              "  </svg>\n",
              "      </button>\n",
              "      \n",
              "  <style>\n",
              "    .colab-df-container {\n",
              "      display:flex;\n",
              "      flex-wrap:wrap;\n",
              "      gap: 12px;\n",
              "    }\n",
              "\n",
              "    .colab-df-convert {\n",
              "      background-color: #E8F0FE;\n",
              "      border: none;\n",
              "      border-radius: 50%;\n",
              "      cursor: pointer;\n",
              "      display: none;\n",
              "      fill: #1967D2;\n",
              "      height: 32px;\n",
              "      padding: 0 0 0 0;\n",
              "      width: 32px;\n",
              "    }\n",
              "\n",
              "    .colab-df-convert:hover {\n",
              "      background-color: #E2EBFA;\n",
              "      box-shadow: 0px 1px 2px rgba(60, 64, 67, 0.3), 0px 1px 3px 1px rgba(60, 64, 67, 0.15);\n",
              "      fill: #174EA6;\n",
              "    }\n",
              "\n",
              "    [theme=dark] .colab-df-convert {\n",
              "      background-color: #3B4455;\n",
              "      fill: #D2E3FC;\n",
              "    }\n",
              "\n",
              "    [theme=dark] .colab-df-convert:hover {\n",
              "      background-color: #434B5C;\n",
              "      box-shadow: 0px 1px 3px 1px rgba(0, 0, 0, 0.15);\n",
              "      filter: drop-shadow(0px 1px 2px rgba(0, 0, 0, 0.3));\n",
              "      fill: #FFFFFF;\n",
              "    }\n",
              "  </style>\n",
              "\n",
              "      <script>\n",
              "        const buttonEl =\n",
              "          document.querySelector('#df-3c5eb3ac-438b-4c78-9601-e931e0c523db button.colab-df-convert');\n",
              "        buttonEl.style.display =\n",
              "          google.colab.kernel.accessAllowed ? 'block' : 'none';\n",
              "\n",
              "        async function convertToInteractive(key) {\n",
              "          const element = document.querySelector('#df-3c5eb3ac-438b-4c78-9601-e931e0c523db');\n",
              "          const dataTable =\n",
              "            await google.colab.kernel.invokeFunction('convertToInteractive',\n",
              "                                                     [key], {});\n",
              "          if (!dataTable) return;\n",
              "\n",
              "          const docLinkHtml = 'Like what you see? Visit the ' +\n",
              "            '<a target=\"_blank\" href=https://colab.research.google.com/notebooks/data_table.ipynb>data table notebook</a>'\n",
              "            + ' to learn more about interactive tables.';\n",
              "          element.innerHTML = '';\n",
              "          dataTable['output_type'] = 'display_data';\n",
              "          await google.colab.output.renderOutput(dataTable, element);\n",
              "          const docLink = document.createElement('div');\n",
              "          docLink.innerHTML = docLinkHtml;\n",
              "          element.appendChild(docLink);\n",
              "        }\n",
              "      </script>\n",
              "    </div>\n",
              "  </div>\n",
              "  "
            ]
          },
          "metadata": {}
        }
      ]
    },
    {
      "cell_type": "markdown",
      "source": [
        "### BERT + Manhattan"
      ],
      "metadata": {
        "id": "EUQlzO0KNEn_"
      }
    },
    {
      "cell_type": "code",
      "source": [
        "# manhattan distance\n",
        "from sklearn.metrics.pairwise import manhattan_distances"
      ],
      "metadata": {
        "id": "ci8ZoSknNH4J"
      },
      "execution_count": null,
      "outputs": []
    },
    {
      "cell_type": "code",
      "source": [
        "# Testing\n",
        "sample_text = random.sample(test_df.data['cleaned_text'].tolist(), 1)[0]\n",
        "confidence = 0.5\n",
        "result_list_manhattan = []\n",
        "result_df_manhattan = []\n",
        "relevant_list_manhattan = []\n",
        "\n",
        "# ubah kata ke bentuk vector\n",
        "sample_embedd = indexer.create_embedding(sample_text)\n",
        "score_manhattan = find_distance(sample_embedd, embedding, manhattan_distances)\n",
        "score_manhattan"
      ],
      "metadata": {
        "id": "JGPpdIpHmsNO",
        "colab": {
          "base_uri": "https://localhost:8080/"
        },
        "outputId": "abd66580-8bcb-4996-e2ec-dd7ab70f448e"
      },
      "execution_count": null,
      "outputs": [
        {
          "output_type": "execute_result",
          "data": {
            "text/plain": [
              "array([[107.97371084, 115.76713689, 117.8719371 , ..., 106.91433379,\n",
              "        114.40286477, 116.53255736]])"
            ]
          },
          "metadata": {},
          "execution_count": 46
        }
      ]
    },
    {
      "cell_type": "code",
      "source": [
        "import math\n",
        "\n",
        "confidence = math.ceil(min(score_manhattan[0]))\n",
        "print(\"Nilai Confidence: \", confidence)"
      ],
      "metadata": {
        "id": "AEErvLSam39k",
        "colab": {
          "base_uri": "https://localhost:8080/"
        },
        "outputId": "5b3f1065-944f-45f2-9911-17ea83149426"
      },
      "execution_count": null,
      "outputs": [
        {
          "output_type": "stream",
          "name": "stdout",
          "text": [
            "Nilai Confidence:  79\n"
          ]
        }
      ]
    },
    {
      "cell_type": "code",
      "source": [
        "# sort data berdasarkan threshold\n",
        "for score in score_manhattan:\n",
        "  score = [value for value in score]\n",
        "  result_list_manhattan = score\n",
        "\n",
        "for sent, id_video, score in zip(df['deskripsi'], df['id_video'], result_list_manhattan):\n",
        "  if score <= confidence+20:\n",
        "    result_df_manhattan.append((id_video, sent, score))\n",
        "    relevant_list_manhattan.append(score)"
      ],
      "metadata": {
        "id": "fqQoGpbWoAEk"
      },
      "execution_count": null,
      "outputs": []
    },
    {
      "cell_type": "code",
      "source": [
        "print(\"Sample Text: \", sample_text)\n",
        "\n",
        "top = 10\n",
        "result = pd.DataFrame(result_df_manhattan, columns=['id_video', 'deskripsi', 'similarity_score'])\n",
        "result = result.drop_duplicates()\n",
        "display(result.sort_values('similarity_score', ascending=True).head(top))"
      ],
      "metadata": {
        "id": "etyOYPUPoDAW",
        "colab": {
          "base_uri": "https://localhost:8080/",
          "height": 381
        },
        "outputId": "bdb510a0-e60f-4513-d1cf-5c339b2b589e"
      },
      "execution_count": null,
      "outputs": [
        {
          "output_type": "stream",
          "name": "stdout",
          "text": [
            "Sample Text:  kumpulan pinguni salju\n"
          ]
        },
        {
          "output_type": "display_data",
          "data": {
            "text/plain": [
              "      id_video                        deskripsi  similarity_score\n",
              "300        319           orang berkuda di salju         78.207972\n",
              "819        641             rubah jalan di salju         79.773763\n",
              "1337      1129    beruang bermain di atas salju         82.025357\n",
              "1397      1129  beruang sedang bermain di salju         82.025357\n",
              "1127       960           panda bermain di salju         82.254244\n",
              "1132       960          panda itu bermain salju         82.254244\n",
              "1102       959           panda bermain di salju         82.254244\n",
              "1144       959              panda bermain salju         82.254244\n",
              "1131       959          panda itu bermain salju         82.254244\n",
              "1165       960              Panda bermain salju         82.254244"
            ],
            "text/html": [
              "\n",
              "  <div id=\"df-9123bbb1-9225-4e47-aa78-4ac03c5c6e09\">\n",
              "    <div class=\"colab-df-container\">\n",
              "      <div>\n",
              "<style scoped>\n",
              "    .dataframe tbody tr th:only-of-type {\n",
              "        vertical-align: middle;\n",
              "    }\n",
              "\n",
              "    .dataframe tbody tr th {\n",
              "        vertical-align: top;\n",
              "    }\n",
              "\n",
              "    .dataframe thead th {\n",
              "        text-align: right;\n",
              "    }\n",
              "</style>\n",
              "<table border=\"1\" class=\"dataframe\">\n",
              "  <thead>\n",
              "    <tr style=\"text-align: right;\">\n",
              "      <th></th>\n",
              "      <th>id_video</th>\n",
              "      <th>deskripsi</th>\n",
              "      <th>similarity_score</th>\n",
              "    </tr>\n",
              "  </thead>\n",
              "  <tbody>\n",
              "    <tr>\n",
              "      <th>300</th>\n",
              "      <td>319</td>\n",
              "      <td>orang berkuda di salju</td>\n",
              "      <td>78.207972</td>\n",
              "    </tr>\n",
              "    <tr>\n",
              "      <th>819</th>\n",
              "      <td>641</td>\n",
              "      <td>rubah jalan di salju</td>\n",
              "      <td>79.773763</td>\n",
              "    </tr>\n",
              "    <tr>\n",
              "      <th>1337</th>\n",
              "      <td>1129</td>\n",
              "      <td>beruang bermain di atas salju</td>\n",
              "      <td>82.025357</td>\n",
              "    </tr>\n",
              "    <tr>\n",
              "      <th>1397</th>\n",
              "      <td>1129</td>\n",
              "      <td>beruang sedang bermain di salju</td>\n",
              "      <td>82.025357</td>\n",
              "    </tr>\n",
              "    <tr>\n",
              "      <th>1127</th>\n",
              "      <td>960</td>\n",
              "      <td>panda bermain di salju</td>\n",
              "      <td>82.254244</td>\n",
              "    </tr>\n",
              "    <tr>\n",
              "      <th>1132</th>\n",
              "      <td>960</td>\n",
              "      <td>panda itu bermain salju</td>\n",
              "      <td>82.254244</td>\n",
              "    </tr>\n",
              "    <tr>\n",
              "      <th>1102</th>\n",
              "      <td>959</td>\n",
              "      <td>panda bermain di salju</td>\n",
              "      <td>82.254244</td>\n",
              "    </tr>\n",
              "    <tr>\n",
              "      <th>1144</th>\n",
              "      <td>959</td>\n",
              "      <td>panda bermain salju</td>\n",
              "      <td>82.254244</td>\n",
              "    </tr>\n",
              "    <tr>\n",
              "      <th>1131</th>\n",
              "      <td>959</td>\n",
              "      <td>panda itu bermain salju</td>\n",
              "      <td>82.254244</td>\n",
              "    </tr>\n",
              "    <tr>\n",
              "      <th>1165</th>\n",
              "      <td>960</td>\n",
              "      <td>Panda bermain salju</td>\n",
              "      <td>82.254244</td>\n",
              "    </tr>\n",
              "  </tbody>\n",
              "</table>\n",
              "</div>\n",
              "      <button class=\"colab-df-convert\" onclick=\"convertToInteractive('df-9123bbb1-9225-4e47-aa78-4ac03c5c6e09')\"\n",
              "              title=\"Convert this dataframe to an interactive table.\"\n",
              "              style=\"display:none;\">\n",
              "        \n",
              "  <svg xmlns=\"http://www.w3.org/2000/svg\" height=\"24px\"viewBox=\"0 0 24 24\"\n",
              "       width=\"24px\">\n",
              "    <path d=\"M0 0h24v24H0V0z\" fill=\"none\"/>\n",
              "    <path d=\"M18.56 5.44l.94 2.06.94-2.06 2.06-.94-2.06-.94-.94-2.06-.94 2.06-2.06.94zm-11 1L8.5 8.5l.94-2.06 2.06-.94-2.06-.94L8.5 2.5l-.94 2.06-2.06.94zm10 10l.94 2.06.94-2.06 2.06-.94-2.06-.94-.94-2.06-.94 2.06-2.06.94z\"/><path d=\"M17.41 7.96l-1.37-1.37c-.4-.4-.92-.59-1.43-.59-.52 0-1.04.2-1.43.59L10.3 9.45l-7.72 7.72c-.78.78-.78 2.05 0 2.83L4 21.41c.39.39.9.59 1.41.59.51 0 1.02-.2 1.41-.59l7.78-7.78 2.81-2.81c.8-.78.8-2.07 0-2.86zM5.41 20L4 18.59l7.72-7.72 1.47 1.35L5.41 20z\"/>\n",
              "  </svg>\n",
              "      </button>\n",
              "      \n",
              "  <style>\n",
              "    .colab-df-container {\n",
              "      display:flex;\n",
              "      flex-wrap:wrap;\n",
              "      gap: 12px;\n",
              "    }\n",
              "\n",
              "    .colab-df-convert {\n",
              "      background-color: #E8F0FE;\n",
              "      border: none;\n",
              "      border-radius: 50%;\n",
              "      cursor: pointer;\n",
              "      display: none;\n",
              "      fill: #1967D2;\n",
              "      height: 32px;\n",
              "      padding: 0 0 0 0;\n",
              "      width: 32px;\n",
              "    }\n",
              "\n",
              "    .colab-df-convert:hover {\n",
              "      background-color: #E2EBFA;\n",
              "      box-shadow: 0px 1px 2px rgba(60, 64, 67, 0.3), 0px 1px 3px 1px rgba(60, 64, 67, 0.15);\n",
              "      fill: #174EA6;\n",
              "    }\n",
              "\n",
              "    [theme=dark] .colab-df-convert {\n",
              "      background-color: #3B4455;\n",
              "      fill: #D2E3FC;\n",
              "    }\n",
              "\n",
              "    [theme=dark] .colab-df-convert:hover {\n",
              "      background-color: #434B5C;\n",
              "      box-shadow: 0px 1px 3px 1px rgba(0, 0, 0, 0.15);\n",
              "      filter: drop-shadow(0px 1px 2px rgba(0, 0, 0, 0.3));\n",
              "      fill: #FFFFFF;\n",
              "    }\n",
              "  </style>\n",
              "\n",
              "      <script>\n",
              "        const buttonEl =\n",
              "          document.querySelector('#df-9123bbb1-9225-4e47-aa78-4ac03c5c6e09 button.colab-df-convert');\n",
              "        buttonEl.style.display =\n",
              "          google.colab.kernel.accessAllowed ? 'block' : 'none';\n",
              "\n",
              "        async function convertToInteractive(key) {\n",
              "          const element = document.querySelector('#df-9123bbb1-9225-4e47-aa78-4ac03c5c6e09');\n",
              "          const dataTable =\n",
              "            await google.colab.kernel.invokeFunction('convertToInteractive',\n",
              "                                                     [key], {});\n",
              "          if (!dataTable) return;\n",
              "\n",
              "          const docLinkHtml = 'Like what you see? Visit the ' +\n",
              "            '<a target=\"_blank\" href=https://colab.research.google.com/notebooks/data_table.ipynb>data table notebook</a>'\n",
              "            + ' to learn more about interactive tables.';\n",
              "          element.innerHTML = '';\n",
              "          dataTable['output_type'] = 'display_data';\n",
              "          await google.colab.output.renderOutput(dataTable, element);\n",
              "          const docLink = document.createElement('div');\n",
              "          docLink.innerHTML = docLinkHtml;\n",
              "          element.appendChild(docLink);\n",
              "        }\n",
              "      </script>\n",
              "    </div>\n",
              "  </div>\n",
              "  "
            ]
          },
          "metadata": {}
        }
      ]
    },
    {
      "cell_type": "markdown",
      "source": [
        "# Evaluasi (Precision, Recall, F-Score)"
      ],
      "metadata": {
        "id": "vIXkb38xMtai"
      }
    },
    {
      "cell_type": "markdown",
      "source": [
        "**Precision**\n",
        "\n",
        "![image.png](data:image/png;base64,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)"
      ],
      "metadata": {
        "id": "LPypQ_dnEZVq"
      }
    },
    {
      "cell_type": "code",
      "source": [
        "def precision(relevant, retrieved):\n",
        "  nominator = len(list(set(relevant).intersection(retrieved)))\n",
        "  denominator = len(retrieved)\n",
        "  return nominator / denominator"
      ],
      "metadata": {
        "id": "6SHW2QlI2sZp"
      },
      "execution_count": null,
      "outputs": []
    },
    {
      "cell_type": "markdown",
      "source": [
        "**Recall** <br>\n",
        "![image.png](data:image/png;base64,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)"
      ],
      "metadata": {
        "id": "GTdPxnALEvUX"
      }
    },
    {
      "cell_type": "code",
      "source": [
        "def recall(relevant, retrieved):\n",
        "  nominator = len(list(set(relevant).intersection(retrieved)))\n",
        "  denominator = len(relevant)\n",
        "  return nominator / denominator"
      ],
      "metadata": {
        "id": "R2kSHhXME-Zz"
      },
      "execution_count": null,
      "outputs": []
    },
    {
      "cell_type": "markdown",
      "source": [
        "**F-Score** <br>\n",
        "![image.png](data:image/png;base64,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)"
      ],
      "metadata": {
        "id": "i2GzEdARE-wO"
      }
    },
    {
      "cell_type": "code",
      "source": [
        "def f_score(precision, recall):\n",
        "  return (2 * precision * recall) / (precision + recall)"
      ],
      "metadata": {
        "id": "K0_ecoaldyuz"
      },
      "execution_count": null,
      "outputs": []
    },
    {
      "cell_type": "markdown",
      "source": [
        "### Cosine Similarity"
      ],
      "metadata": {
        "id": "Ng5_AhqG2p9c"
      }
    },
    {
      "cell_type": "code",
      "source": [
        "precision_cosine = precision(relevant_list_cosine, result_list_cosine)\n",
        "recall_cosine = recall(relevant_list_cosine, result_list_cosine)\n",
        "f_score_cosine = f_score(precision_cosine, recall_cosine)\n",
        "\n",
        "print(\"Precision: \", precision_cosine)\n",
        "print(\"Recall: \", recall_cosine)\n",
        "print(\"F-Score: \", f_score_cosine)"
      ],
      "metadata": {
        "id": "FFa8UJU3NNRJ",
        "colab": {
          "base_uri": "https://localhost:8080/"
        },
        "outputId": "2525b1e3-9a07-468c-cf72-62b919d50e85"
      },
      "execution_count": null,
      "outputs": [
        {
          "output_type": "stream",
          "name": "stdout",
          "text": [
            "Precision:  0.6348765835183492\n",
            "Recall:  0.63489731282855\n",
            "F-Score:  0.6348869480042445\n"
          ]
        }
      ]
    },
    {
      "cell_type": "markdown",
      "source": [
        "### Jaccard Similarity"
      ],
      "metadata": {
        "id": "KUHyWT_8iKX9"
      }
    },
    {
      "cell_type": "code",
      "source": [
        "precision_jaccard = precision(relevant_list_jaccard, result_list_jaccard)\n",
        "recall_jaccard = recall(relevant_list_jaccard, result_list_jaccard)\n",
        "f_score_jaccard = f_score(precision_jaccard, recall_jaccard)\n",
        "\n",
        "print(\"Precision: \", precision_jaccard)\n",
        "print(\"Recall: \", recall_jaccard)\n",
        "print(\"F-Score: \", f_score_jaccard)"
      ],
      "metadata": {
        "id": "T4dSzlAJiOEk",
        "colab": {
          "base_uri": "https://localhost:8080/"
        },
        "outputId": "efdb2236-fb66-460e-d4fa-a14d2699de87"
      },
      "execution_count": null,
      "outputs": [
        {
          "output_type": "stream",
          "name": "stdout",
          "text": [
            "Precision:  6.52997257411519e-05\n",
            "Recall:  0.009523809523809525\n",
            "F-Score:  0.00012971009793112393\n"
          ]
        }
      ]
    },
    {
      "cell_type": "markdown",
      "source": [
        "### Eulidean Disctance"
      ],
      "metadata": {
        "id": "vPVSvuDpiVVK"
      }
    },
    {
      "cell_type": "code",
      "source": [
        "precision_euclid = precision(relevant_list_euclid, result_list_euclid)\n",
        "recall_euclid = recall(relevant_list_euclid, result_list_euclid)\n",
        "f_score_euclid = f_score(precision_euclid, recall_euclid)\n",
        "\n",
        "print(\"Precision: \", precision_euclid)\n",
        "print(\"Recall: \", recall_euclid)\n",
        "print(\"F-Score: \", f_score_euclid)"
      ],
      "metadata": {
        "id": "_sX3pHXOiX-b",
        "colab": {
          "base_uri": "https://localhost:8080/"
        },
        "outputId": "b3484cf4-5728-4000-f439-c664eb49f6f9"
      },
      "execution_count": null,
      "outputs": [
        {
          "output_type": "stream",
          "name": "stdout",
          "text": [
            "Precision:  3.264986287057595e-05\n",
            "Recall:  0.25\n",
            "F-Score:  6.5291198746409e-05\n"
          ]
        }
      ]
    },
    {
      "cell_type": "markdown",
      "source": [
        "### Manhattan Distance"
      ],
      "metadata": {
        "id": "iw0r0XKWihAi"
      }
    },
    {
      "cell_type": "code",
      "source": [
        "precision_manhattan = precision(relevant_list_manhattan, result_list_manhattan)\n",
        "recall_manhattan = recall(relevant_list_manhattan, result_list_manhattan)\n",
        "f_score_manhattan = f_score(precision_manhattan, recall_manhattan)\n",
        "\n",
        "print(\"Precision: \", precision_manhattan)\n",
        "print(\"Recall: \", recall_manhattan)\n",
        "print(\"F-Score: \", f_score_manhattan)"
      ],
      "metadata": {
        "id": "BS9N6IxwiizC",
        "colab": {
          "base_uri": "https://localhost:8080/"
        },
        "outputId": "ff24cd7b-cf4a-4cb2-cb48-fb33025b8dff"
      },
      "execution_count": null,
      "outputs": [
        {
          "output_type": "stream",
          "name": "stdout",
          "text": [
            "Precision:  0.03558835052892778\n",
            "Recall:  0.6554419723391461\n",
            "F-Score:  0.06751107119630857\n"
          ]
        }
      ]
    }
  ]
}